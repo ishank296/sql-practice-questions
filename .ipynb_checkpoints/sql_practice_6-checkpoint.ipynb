{
 "cells": [
  {
   "cell_type": "code",
   "execution_count": 1,
   "metadata": {},
   "outputs": [],
   "source": [
    "%load_ext sql"
   ]
  },
  {
   "cell_type": "code",
   "execution_count": 2,
   "metadata": {},
   "outputs": [
    {
     "data": {
      "text/plain": [
       "'Connected: @./test.db'"
      ]
     },
     "execution_count": 2,
     "metadata": {},
     "output_type": "execute_result"
    }
   ],
   "source": [
    "%sql sqlite:///./test.db"
   ]
  },
  {
   "cell_type": "code",
   "execution_count": 4,
   "metadata": {},
   "outputs": [
    {
     "name": "stdout",
     "output_type": "stream",
     "text": [
      " * sqlite:///./test.db\n",
      "Done.\n"
     ]
    },
    {
     "data": {
      "text/html": [
       "<table>\n",
       "    <thead>\n",
       "        <tr>\n",
       "            <th>ORDER_DAY</th>\n",
       "            <th>ORDER_ID</th>\n",
       "            <th>PRODUCT_ID</th>\n",
       "            <th>QUANTITY</th>\n",
       "            <th>PRICE</th>\n",
       "        </tr>\n",
       "    </thead>\n",
       "    <tbody>\n",
       "        <tr>\n",
       "            <td>2015-05-01</td>\n",
       "            <td>ODR1</td>\n",
       "            <td>PROD1</td>\n",
       "            <td>5</td>\n",
       "            <td>5</td>\n",
       "        </tr>\n",
       "        <tr>\n",
       "            <td>2015-05-01</td>\n",
       "            <td>ODR2</td>\n",
       "            <td>PROD2</td>\n",
       "            <td>2</td>\n",
       "            <td>10</td>\n",
       "        </tr>\n",
       "        <tr>\n",
       "            <td>2015-05-01</td>\n",
       "            <td>ODR3</td>\n",
       "            <td>PROD3</td>\n",
       "            <td>10</td>\n",
       "            <td>25</td>\n",
       "        </tr>\n",
       "        <tr>\n",
       "            <td>2015-05-01</td>\n",
       "            <td>ODR4</td>\n",
       "            <td>PROD1</td>\n",
       "            <td>20</td>\n",
       "            <td>5</td>\n",
       "        </tr>\n",
       "        <tr>\n",
       "            <td>2015-05-02</td>\n",
       "            <td>ODR5</td>\n",
       "            <td>PROD3</td>\n",
       "            <td>5</td>\n",
       "            <td>25</td>\n",
       "        </tr>\n",
       "    </tbody>\n",
       "</table>"
      ],
      "text/plain": [
       "[('2015-05-01', 'ODR1', 'PROD1', 5, 5),\n",
       " ('2015-05-01', 'ODR2', 'PROD2', 2, 10),\n",
       " ('2015-05-01', 'ODR3', 'PROD3', 10, 25),\n",
       " ('2015-05-01', 'ODR4', 'PROD1', 20, 5),\n",
       " ('2015-05-02', 'ODR5', 'PROD3', 5, 25)]"
      ]
     },
     "execution_count": 4,
     "metadata": {},
     "output_type": "execute_result"
    }
   ],
   "source": [
    "%sql select * from order_tbl limit 5"
   ]
  },
  {
   "cell_type": "markdown",
   "metadata": {},
   "source": [
    "SQL to get highest sold products(Quantity * Price) on both days"
   ]
  },
  {
   "cell_type": "code",
   "execution_count": 18,
   "metadata": {},
   "outputs": [
    {
     "name": "stdout",
     "output_type": "stream",
     "text": [
      " * sqlite:///./test.db\n",
      "Done.\n"
     ]
    },
    {
     "data": {
      "text/html": [
       "<table>\n",
       "    <thead>\n",
       "        <tr>\n",
       "            <th>order_day</th>\n",
       "            <th>product_id</th>\n",
       "            <th>total_revenue</th>\n",
       "            <th>rnk</th>\n",
       "        </tr>\n",
       "    </thead>\n",
       "    <tbody>\n",
       "        <tr>\n",
       "            <td>2015-05-01</td>\n",
       "            <td>PROD3</td>\n",
       "            <td>250</td>\n",
       "            <td>1</td>\n",
       "        </tr>\n",
       "        <tr>\n",
       "            <td>2015-05-02</td>\n",
       "            <td>PROD3</td>\n",
       "            <td>125</td>\n",
       "            <td>1</td>\n",
       "        </tr>\n",
       "    </tbody>\n",
       "</table>"
      ],
      "text/plain": [
       "[('2015-05-01', 'PROD3', 250, 1), ('2015-05-02', 'PROD3', 125, 1)]"
      ]
     },
     "execution_count": 18,
     "metadata": {},
     "output_type": "execute_result"
    }
   ],
   "source": [
    "%%sql \n",
    "select * from (\n",
    "select order_day,product_id,quantity*price total_revenue, \n",
    "row_number() over (partition by order_day order by quantity*price desc) rnk\n",
    "from order_tbl)x where rnk=1"
   ]
  },
  {
   "cell_type": "markdown",
   "metadata": {},
   "source": [
    "SQL to get all products total sales on 1st May and 2nd May adjecent to each other"
   ]
  },
  {
   "cell_type": "code",
   "execution_count": 14,
   "metadata": {},
   "outputs": [
    {
     "name": "stdout",
     "output_type": "stream",
     "text": [
      " * sqlite:///./test.db\n",
      "Done.\n"
     ]
    },
    {
     "data": {
      "text/html": [
       "<table>\n",
       "    <thead>\n",
       "        <tr>\n",
       "            <th>PRODUCT_ID</th>\n",
       "            <th>sales_01</th>\n",
       "            <th>sales_02</th>\n",
       "        </tr>\n",
       "    </thead>\n",
       "    <tbody>\n",
       "        <tr>\n",
       "            <td>PROD1</td>\n",
       "            <td>125</td>\n",
       "            <td>10</td>\n",
       "        </tr>\n",
       "        <tr>\n",
       "            <td>PROD2</td>\n",
       "            <td>20</td>\n",
       "            <td>40</td>\n",
       "        </tr>\n",
       "        <tr>\n",
       "            <td>PROD3</td>\n",
       "            <td>250</td>\n",
       "            <td>125</td>\n",
       "        </tr>\n",
       "        <tr>\n",
       "            <td>PROD4</td>\n",
       "            <td>0</td>\n",
       "            <td>120</td>\n",
       "        </tr>\n",
       "        <tr>\n",
       "            <td>PROD5</td>\n",
       "            <td>0</td>\n",
       "            <td>50</td>\n",
       "        </tr>\n",
       "        <tr>\n",
       "            <td>PROD6</td>\n",
       "            <td>0</td>\n",
       "            <td>100</td>\n",
       "        </tr>\n",
       "    </tbody>\n",
       "</table>"
      ],
      "text/plain": [
       "[('PROD1', 125, 10),\n",
       " ('PROD2', 20, 40),\n",
       " ('PROD3', 250, 125),\n",
       " ('PROD4', 0, 120),\n",
       " ('PROD5', 0, 50),\n",
       " ('PROD6', 0, 100)]"
      ]
     },
     "execution_count": 14,
     "metadata": {},
     "output_type": "execute_result"
    }
   ],
   "source": [
    "%%sql\n",
    "select product_id,\n",
    "        sum(case when order_day='2015-05-01' then quantity * price else 0 end) as sales_01,\n",
    "        sum(case when order_day='2015-05-02' then quantity * price else 0 end) as sales_02\n",
    "from order_tbl\n",
    "group by product_id"
   ]
  }
 ],
 "metadata": {
  "kernelspec": {
   "display_name": "Python 3",
   "language": "python",
   "name": "python3"
  },
  "language_info": {
   "codemirror_mode": {
    "name": "ipython",
    "version": 3
   },
   "file_extension": ".py",
   "mimetype": "text/x-python",
   "name": "python",
   "nbconvert_exporter": "python",
   "pygments_lexer": "ipython3",
   "version": "3.8.5"
  }
 },
 "nbformat": 4,
 "nbformat_minor": 4
}
