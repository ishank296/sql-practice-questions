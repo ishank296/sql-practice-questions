{
 "cells": [
  {
   "cell_type": "code",
   "execution_count": 1,
   "metadata": {},
   "outputs": [],
   "source": [
    "%load_ext sql"
   ]
  },
  {
   "cell_type": "code",
   "execution_count": 2,
   "metadata": {},
   "outputs": [
    {
     "data": {
      "text/plain": [
       "'Connected: @./test.db'"
      ]
     },
     "execution_count": 2,
     "metadata": {},
     "output_type": "execute_result"
    }
   ],
   "source": [
    "%sql sqlite:///./test.db"
   ]
  },
  {
   "cell_type": "code",
   "execution_count": 3,
   "metadata": {},
   "outputs": [
    {
     "name": "stdout",
     "output_type": "stream",
     "text": [
      " * sqlite:///./test.db\n",
      "Done.\n"
     ]
    },
    {
     "data": {
      "text/plain": [
       "[]"
      ]
     },
     "execution_count": 3,
     "metadata": {},
     "output_type": "execute_result"
    }
   ],
   "source": [
    "%%sql\n",
    "Create Table BalanceTbl(\n",
    "Balance int,\n",
    "Dates Date\n",
    ");"
   ]
  },
  {
   "cell_type": "code",
   "execution_count": 4,
   "metadata": {},
   "outputs": [
    {
     "name": "stdout",
     "output_type": "stream",
     "text": [
      " * sqlite:///./test.db\n",
      "9 rows affected.\n"
     ]
    },
    {
     "data": {
      "text/plain": [
       "[]"
      ]
     },
     "execution_count": 4,
     "metadata": {},
     "output_type": "execute_result"
    }
   ],
   "source": [
    "%%sql\n",
    "Insert into BalanceTbl Values(26000,'2020-01-01')\n",
    ",(26000,'2020-01-02')\n",
    ",(26000,'2020-01-03')\n",
    ",(30000,'2020-01-04')\n",
    ",(30000,'2020-01-05')\n",
    ",(26000,'2020-01-06')\n",
    ",(26000,'2020-01-07')\n",
    ",(32000,'2020-01-08')\n",
    ",(31000,'2020-01-09');"
   ]
  },
  {
   "cell_type": "code",
   "execution_count": 6,
   "metadata": {},
   "outputs": [
    {
     "name": "stdout",
     "output_type": "stream",
     "text": [
      " * sqlite:///./test.db\n",
      "Done.\n"
     ]
    },
    {
     "data": {
      "text/html": [
       "<table>\n",
       "    <thead>\n",
       "        <tr>\n",
       "            <th>Balance</th>\n",
       "            <th>Dates</th>\n",
       "        </tr>\n",
       "    </thead>\n",
       "    <tbody>\n",
       "        <tr>\n",
       "            <td>26000</td>\n",
       "            <td>2020-01-01</td>\n",
       "        </tr>\n",
       "        <tr>\n",
       "            <td>26000</td>\n",
       "            <td>2020-01-02</td>\n",
       "        </tr>\n",
       "        <tr>\n",
       "            <td>26000</td>\n",
       "            <td>2020-01-03</td>\n",
       "        </tr>\n",
       "        <tr>\n",
       "            <td>30000</td>\n",
       "            <td>2020-01-04</td>\n",
       "        </tr>\n",
       "        <tr>\n",
       "            <td>30000</td>\n",
       "            <td>2020-01-05</td>\n",
       "        </tr>\n",
       "        <tr>\n",
       "            <td>26000</td>\n",
       "            <td>2020-01-06</td>\n",
       "        </tr>\n",
       "        <tr>\n",
       "            <td>26000</td>\n",
       "            <td>2020-01-07</td>\n",
       "        </tr>\n",
       "        <tr>\n",
       "            <td>32000</td>\n",
       "            <td>2020-01-08</td>\n",
       "        </tr>\n",
       "        <tr>\n",
       "            <td>31000</td>\n",
       "            <td>2020-01-09</td>\n",
       "        </tr>\n",
       "    </tbody>\n",
       "</table>"
      ],
      "text/plain": [
       "[(26000, '2020-01-01'),\n",
       " (26000, '2020-01-02'),\n",
       " (26000, '2020-01-03'),\n",
       " (30000, '2020-01-04'),\n",
       " (30000, '2020-01-05'),\n",
       " (26000, '2020-01-06'),\n",
       " (26000, '2020-01-07'),\n",
       " (32000, '2020-01-08'),\n",
       " (31000, '2020-01-09')]"
      ]
     },
     "execution_count": 6,
     "metadata": {},
     "output_type": "execute_result"
    }
   ],
   "source": [
    "%sql select * from balancetbl"
   ]
  },
  {
   "cell_type": "markdown",
   "metadata": {},
   "source": [
    "SQL to derive Start_Date and End_Date column when there is continuous amount in Balance column "
   ]
  },
  {
   "cell_type": "code",
   "execution_count": 18,
   "metadata": {},
   "outputs": [
    {
     "name": "stdout",
     "output_type": "stream",
     "text": [
      " * sqlite:///./test.db\n",
      "Done.\n"
     ]
    },
    {
     "data": {
      "text/html": [
       "<table>\n",
       "    <thead>\n",
       "        <tr>\n",
       "            <th>balance</th>\n",
       "            <th>dates</th>\n",
       "            <th>grp</th>\n",
       "        </tr>\n",
       "    </thead>\n",
       "    <tbody>\n",
       "        <tr>\n",
       "            <td>26000</td>\n",
       "            <td>2020-01-01</td>\n",
       "            <td>1</td>\n",
       "        </tr>\n",
       "        <tr>\n",
       "            <td>26000</td>\n",
       "            <td>2020-01-02</td>\n",
       "            <td>1</td>\n",
       "        </tr>\n",
       "        <tr>\n",
       "            <td>26000</td>\n",
       "            <td>2020-01-03</td>\n",
       "            <td>1</td>\n",
       "        </tr>\n",
       "        <tr>\n",
       "            <td>30000</td>\n",
       "            <td>2020-01-04</td>\n",
       "            <td>2</td>\n",
       "        </tr>\n",
       "        <tr>\n",
       "            <td>30000</td>\n",
       "            <td>2020-01-05</td>\n",
       "            <td>2</td>\n",
       "        </tr>\n",
       "        <tr>\n",
       "            <td>26000</td>\n",
       "            <td>2020-01-06</td>\n",
       "            <td>3</td>\n",
       "        </tr>\n",
       "        <tr>\n",
       "            <td>26000</td>\n",
       "            <td>2020-01-07</td>\n",
       "            <td>3</td>\n",
       "        </tr>\n",
       "        <tr>\n",
       "            <td>32000</td>\n",
       "            <td>2020-01-08</td>\n",
       "            <td>4</td>\n",
       "        </tr>\n",
       "        <tr>\n",
       "            <td>31000</td>\n",
       "            <td>2020-01-09</td>\n",
       "            <td>5</td>\n",
       "        </tr>\n",
       "    </tbody>\n",
       "</table>"
      ],
      "text/plain": [
       "[(26000, '2020-01-01', 1),\n",
       " (26000, '2020-01-02', 1),\n",
       " (26000, '2020-01-03', 1),\n",
       " (30000, '2020-01-04', 2),\n",
       " (30000, '2020-01-05', 2),\n",
       " (26000, '2020-01-06', 3),\n",
       " (26000, '2020-01-07', 3),\n",
       " (32000, '2020-01-08', 4),\n",
       " (31000, '2020-01-09', 5)]"
      ]
     },
     "execution_count": 18,
     "metadata": {},
     "output_type": "execute_result"
    }
   ],
   "source": [
    "%%sql \n",
    "select balance,dates,sum(temp_seq) over (order by dates) as grp from (\n",
    "select balance,dates,case when lag(Balance) over (order by dates)=balance then 0 else 1 end as temp_seq\n",
    "from balancetbl) x"
   ]
  },
  {
   "cell_type": "code",
   "execution_count": 22,
   "metadata": {},
   "outputs": [
    {
     "name": "stdout",
     "output_type": "stream",
     "text": [
      " * sqlite:///./test.db\n",
      "Done.\n"
     ]
    },
    {
     "data": {
      "text/html": [
       "<table>\n",
       "    <thead>\n",
       "        <tr>\n",
       "            <th>sales_date</th>\n",
       "            <th>sum(sales_amount * exchange_rate)</th>\n",
       "        </tr>\n",
       "    </thead>\n",
       "    <tbody>\n",
       "        <tr>\n",
       "            <td>2020-01-01</td>\n",
       "            <td>139.0</td>\n",
       "        </tr>\n",
       "        <tr>\n",
       "            <td>2020-01-02</td>\n",
       "            <td>664.0</td>\n",
       "        </tr>\n",
       "        <tr>\n",
       "            <td>2020-01-03</td>\n",
       "            <td>7.5</td>\n",
       "        </tr>\n",
       "        <tr>\n",
       "            <td>2020-01-17</td>\n",
       "            <td>270.0</td>\n",
       "        </tr>\n",
       "    </tbody>\n",
       "</table>"
      ],
      "text/plain": [
       "[('2020-01-01', 139.0),\n",
       " ('2020-01-02', 664.0),\n",
       " ('2020-01-03', 7.5),\n",
       " ('2020-01-17', 270.0)]"
      ]
     },
     "execution_count": 22,
     "metadata": {},
     "output_type": "execute_result"
    }
   ],
   "source": [
    "%%sql \n",
    "select sales_date,sum(sales_amount * exchange_rate) from(\n",
    "select s.sales_date,s.sales_amount,s.currency,e.exchange_rate,e.effective_start_date,\n",
    "row_number() over(partition by sales_date,currency order by effective_start_date desc) rnk\n",
    "from sales_table s join exchangerate_table e\n",
    "on s.currency=e.source_currency\n",
    "and s.sales_date > e.effective_start_date)x\n",
    "where rnk=1\n",
    "group by sales_date"
   ]
  }
 ],
 "metadata": {
  "kernelspec": {
   "display_name": "Python 3",
   "language": "python",
   "name": "python3"
  },
  "language_info": {
   "codemirror_mode": {
    "name": "ipython",
    "version": 3
   },
   "file_extension": ".py",
   "mimetype": "text/x-python",
   "name": "python",
   "nbconvert_exporter": "python",
   "pygments_lexer": "ipython3",
   "version": "3.8.5"
  }
 },
 "nbformat": 4,
 "nbformat_minor": 4
}
