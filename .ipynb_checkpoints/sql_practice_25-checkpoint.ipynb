{
 "cells": [
  {
   "cell_type": "code",
   "execution_count": 1,
   "metadata": {},
   "outputs": [],
   "source": [
    "%load_ext sql"
   ]
  },
  {
   "cell_type": "code",
   "execution_count": 2,
   "metadata": {},
   "outputs": [
    {
     "data": {
      "text/plain": [
       "'Connected: @./test.db'"
      ]
     },
     "execution_count": 2,
     "metadata": {},
     "output_type": "execute_result"
    }
   ],
   "source": [
    "%sql sqlite:///./test.db"
   ]
  },
  {
   "cell_type": "code",
   "execution_count": 4,
   "metadata": {},
   "outputs": [
    {
     "name": "stdout",
     "output_type": "stream",
     "text": [
      " * sqlite:///./test.db\n",
      "Done.\n",
      "Done.\n"
     ]
    },
    {
     "data": {
      "text/plain": [
       "[]"
      ]
     },
     "execution_count": 4,
     "metadata": {},
     "output_type": "execute_result"
    }
   ],
   "source": [
    "%%sql\n",
    "DROP table if exists emp_detail;\n",
    "Create table Emp_Detail\n",
    "(\n",
    "EmpName Varchar(25),\n",
    "Age int,\n",
    "Salary Bigint,\n",
    "Department Varchar(20)\n",
    ")"
   ]
  },
  {
   "cell_type": "code",
   "execution_count": 5,
   "metadata": {},
   "outputs": [
    {
     "name": "stdout",
     "output_type": "stream",
     "text": [
      " * sqlite:///./test.db\n",
      "11 rows affected.\n"
     ]
    },
    {
     "data": {
      "text/plain": [
       "[]"
      ]
     },
     "execution_count": 5,
     "metadata": {},
     "output_type": "execute_result"
    }
   ],
   "source": [
    "%%sql\n",
    "Insert into Emp_Detail Values('James',25,25000,'Admin')\n",
    ",('Robert',33,39000,'Admin')\n",
    ",('Richard',41,48000,'Admin')\n",
    ",('Thomas',28,30000,'Admin')\n",
    ",('Tom',40,55000,'Finance')\n",
    ",('Donald',35,38000,'Finance')\n",
    ",('Sara',32,44000,'Finance')\n",
    ",('Mike',28,25000,'HR')\n",
    ",('John',35,45000,'HR')\n",
    ",('Mary',23,30000,'HR')\n",
    ",('David',32,43000,'HR');"
   ]
  },
  {
   "cell_type": "code",
   "execution_count": 6,
   "metadata": {},
   "outputs": [
    {
     "name": "stdout",
     "output_type": "stream",
     "text": [
      " * sqlite:///./test.db\n",
      "Done.\n"
     ]
    },
    {
     "data": {
      "text/html": [
       "<table>\n",
       "    <thead>\n",
       "        <tr>\n",
       "            <th>EmpName</th>\n",
       "            <th>Age</th>\n",
       "            <th>Salary</th>\n",
       "            <th>Department</th>\n",
       "        </tr>\n",
       "    </thead>\n",
       "    <tbody>\n",
       "        <tr>\n",
       "            <td>James</td>\n",
       "            <td>25</td>\n",
       "            <td>25000</td>\n",
       "            <td>Admin</td>\n",
       "        </tr>\n",
       "        <tr>\n",
       "            <td>Robert</td>\n",
       "            <td>33</td>\n",
       "            <td>39000</td>\n",
       "            <td>Admin</td>\n",
       "        </tr>\n",
       "        <tr>\n",
       "            <td>Richard</td>\n",
       "            <td>41</td>\n",
       "            <td>48000</td>\n",
       "            <td>Admin</td>\n",
       "        </tr>\n",
       "        <tr>\n",
       "            <td>Thomas</td>\n",
       "            <td>28</td>\n",
       "            <td>30000</td>\n",
       "            <td>Admin</td>\n",
       "        </tr>\n",
       "        <tr>\n",
       "            <td>Tom</td>\n",
       "            <td>40</td>\n",
       "            <td>55000</td>\n",
       "            <td>Finance</td>\n",
       "        </tr>\n",
       "        <tr>\n",
       "            <td>Donald</td>\n",
       "            <td>35</td>\n",
       "            <td>38000</td>\n",
       "            <td>Finance</td>\n",
       "        </tr>\n",
       "        <tr>\n",
       "            <td>Sara</td>\n",
       "            <td>32</td>\n",
       "            <td>44000</td>\n",
       "            <td>Finance</td>\n",
       "        </tr>\n",
       "        <tr>\n",
       "            <td>Mike</td>\n",
       "            <td>28</td>\n",
       "            <td>25000</td>\n",
       "            <td>HR</td>\n",
       "        </tr>\n",
       "        <tr>\n",
       "            <td>John</td>\n",
       "            <td>35</td>\n",
       "            <td>45000</td>\n",
       "            <td>HR</td>\n",
       "        </tr>\n",
       "        <tr>\n",
       "            <td>Mary</td>\n",
       "            <td>23</td>\n",
       "            <td>30000</td>\n",
       "            <td>HR</td>\n",
       "        </tr>\n",
       "        <tr>\n",
       "            <td>David</td>\n",
       "            <td>32</td>\n",
       "            <td>43000</td>\n",
       "            <td>HR</td>\n",
       "        </tr>\n",
       "    </tbody>\n",
       "</table>"
      ],
      "text/plain": [
       "[('James', 25, 25000, 'Admin'),\n",
       " ('Robert', 33, 39000, 'Admin'),\n",
       " ('Richard', 41, 48000, 'Admin'),\n",
       " ('Thomas', 28, 30000, 'Admin'),\n",
       " ('Tom', 40, 55000, 'Finance'),\n",
       " ('Donald', 35, 38000, 'Finance'),\n",
       " ('Sara', 32, 44000, 'Finance'),\n",
       " ('Mike', 28, 25000, 'HR'),\n",
       " ('John', 35, 45000, 'HR'),\n",
       " ('Mary', 23, 30000, 'HR'),\n",
       " ('David', 32, 43000, 'HR')]"
      ]
     },
     "execution_count": 6,
     "metadata": {},
     "output_type": "execute_result"
    }
   ],
   "source": [
    "%sql select * from emp_detail"
   ]
  },
  {
   "cell_type": "markdown",
   "metadata": {},
   "source": [
    "SQL to find Top 2 records from each department "
   ]
  },
  {
   "cell_type": "code",
   "execution_count": 9,
   "metadata": {},
   "outputs": [
    {
     "name": "stdout",
     "output_type": "stream",
     "text": [
      " * sqlite:///./test.db\n",
      "Done.\n"
     ]
    },
    {
     "data": {
      "text/html": [
       "<table>\n",
       "    <thead>\n",
       "        <tr>\n",
       "            <th>EmpName</th>\n",
       "            <th>Age</th>\n",
       "            <th>Salary</th>\n",
       "            <th>Department</th>\n",
       "        </tr>\n",
       "    </thead>\n",
       "    <tbody>\n",
       "        <tr>\n",
       "            <td>Richard</td>\n",
       "            <td>41</td>\n",
       "            <td>48000</td>\n",
       "            <td>Admin</td>\n",
       "        </tr>\n",
       "        <tr>\n",
       "            <td>Robert</td>\n",
       "            <td>33</td>\n",
       "            <td>39000</td>\n",
       "            <td>Admin</td>\n",
       "        </tr>\n",
       "        <tr>\n",
       "            <td>Tom</td>\n",
       "            <td>40</td>\n",
       "            <td>55000</td>\n",
       "            <td>Finance</td>\n",
       "        </tr>\n",
       "        <tr>\n",
       "            <td>Sara</td>\n",
       "            <td>32</td>\n",
       "            <td>44000</td>\n",
       "            <td>Finance</td>\n",
       "        </tr>\n",
       "        <tr>\n",
       "            <td>John</td>\n",
       "            <td>35</td>\n",
       "            <td>45000</td>\n",
       "            <td>HR</td>\n",
       "        </tr>\n",
       "        <tr>\n",
       "            <td>David</td>\n",
       "            <td>32</td>\n",
       "            <td>43000</td>\n",
       "            <td>HR</td>\n",
       "        </tr>\n",
       "    </tbody>\n",
       "</table>"
      ],
      "text/plain": [
       "[('Richard', 41, 48000, 'Admin'),\n",
       " ('Robert', 33, 39000, 'Admin'),\n",
       " ('Tom', 40, 55000, 'Finance'),\n",
       " ('Sara', 32, 44000, 'Finance'),\n",
       " ('John', 35, 45000, 'HR'),\n",
       " ('David', 32, 43000, 'HR')]"
      ]
     },
     "execution_count": 9,
     "metadata": {},
     "output_type": "execute_result"
    }
   ],
   "source": [
    "%%sql\n",
    "select empname,age,salary,department from (\n",
    "select *,row_number() over(partition by department order by salary desc) rnk from emp_detail\n",
    ") x where x.rnk<3\n"
   ]
  }
 ],
 "metadata": {
  "kernelspec": {
   "display_name": "Python 3",
   "language": "python",
   "name": "python3"
  },
  "language_info": {
   "codemirror_mode": {
    "name": "ipython",
    "version": 3
   },
   "file_extension": ".py",
   "mimetype": "text/x-python",
   "name": "python",
   "nbconvert_exporter": "python",
   "pygments_lexer": "ipython3",
   "version": "3.8.5"
  }
 },
 "nbformat": 4,
 "nbformat_minor": 4
}
