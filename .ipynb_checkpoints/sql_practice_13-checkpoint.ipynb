{
 "cells": [
  {
   "cell_type": "code",
   "execution_count": 1,
   "metadata": {},
   "outputs": [],
   "source": [
    "%load_ext sql"
   ]
  },
  {
   "cell_type": "code",
   "execution_count": 2,
   "metadata": {},
   "outputs": [
    {
     "data": {
      "text/plain": [
       "'Connected: @./test.db'"
      ]
     },
     "execution_count": 2,
     "metadata": {},
     "output_type": "execute_result"
    }
   ],
   "source": [
    "%sql sqlite:///./test.db"
   ]
  },
  {
   "cell_type": "code",
   "execution_count": 3,
   "metadata": {},
   "outputs": [
    {
     "name": "stdout",
     "output_type": "stream",
     "text": [
      " * sqlite:///./test.db\n",
      "Done.\n",
      "Done.\n"
     ]
    },
    {
     "data": {
      "text/plain": [
       "[]"
      ]
     },
     "execution_count": 3,
     "metadata": {},
     "output_type": "execute_result"
    }
   ],
   "source": [
    "%%sql\n",
    "Drop table if exists sales;\n",
    "create table sales \n",
    "(\n",
    "    id int,\n",
    "    product string,\n",
    "    salesyear string,\n",
    "    quantitysold int\n",
    ");"
   ]
  },
  {
   "cell_type": "code",
   "execution_count": 6,
   "metadata": {},
   "outputs": [
    {
     "name": "stdout",
     "output_type": "stream",
     "text": [
      " * sqlite:///./test.db\n",
      "9 rows affected.\n"
     ]
    },
    {
     "data": {
      "text/plain": [
       "[]"
      ]
     },
     "execution_count": 6,
     "metadata": {},
     "output_type": "execute_result"
    }
   ],
   "source": [
    "%%sql insert into sales values\n",
    "(1,'Laptop','1998',2500),\n",
    "(2,'Laptop','1999',3600),\n",
    "(3,'Laptop','2000',4200),\n",
    "(4,'Keyboard','1998',2300),\n",
    "(5,'Keyboard','1999',4800),\n",
    "(6,'Keyboard','2000',5000),\n",
    "(7,'mouse','1998',6000),\n",
    "(8,'mouse','1999',3400),\n",
    "(9,'mouse','2000',4600);"
   ]
  },
  {
   "cell_type": "code",
   "execution_count": 7,
   "metadata": {},
   "outputs": [
    {
     "name": "stdout",
     "output_type": "stream",
     "text": [
      " * sqlite:///./test.db\n",
      "Done.\n"
     ]
    },
    {
     "data": {
      "text/html": [
       "<table>\n",
       "    <thead>\n",
       "        <tr>\n",
       "            <th>id</th>\n",
       "            <th>product</th>\n",
       "            <th>salesyear</th>\n",
       "            <th>quantitysold</th>\n",
       "        </tr>\n",
       "    </thead>\n",
       "    <tbody>\n",
       "        <tr>\n",
       "            <td>1</td>\n",
       "            <td>Laptop</td>\n",
       "            <td>1998</td>\n",
       "            <td>2500</td>\n",
       "        </tr>\n",
       "        <tr>\n",
       "            <td>2</td>\n",
       "            <td>Laptop</td>\n",
       "            <td>1999</td>\n",
       "            <td>3600</td>\n",
       "        </tr>\n",
       "        <tr>\n",
       "            <td>3</td>\n",
       "            <td>Laptop</td>\n",
       "            <td>2000</td>\n",
       "            <td>4200</td>\n",
       "        </tr>\n",
       "        <tr>\n",
       "            <td>4</td>\n",
       "            <td>Keyboard</td>\n",
       "            <td>1998</td>\n",
       "            <td>2300</td>\n",
       "        </tr>\n",
       "        <tr>\n",
       "            <td>5</td>\n",
       "            <td>Keyboard</td>\n",
       "            <td>1999</td>\n",
       "            <td>4800</td>\n",
       "        </tr>\n",
       "        <tr>\n",
       "            <td>6</td>\n",
       "            <td>Keyboard</td>\n",
       "            <td>2000</td>\n",
       "            <td>5000</td>\n",
       "        </tr>\n",
       "        <tr>\n",
       "            <td>7</td>\n",
       "            <td>mouse</td>\n",
       "            <td>1998</td>\n",
       "            <td>6000</td>\n",
       "        </tr>\n",
       "        <tr>\n",
       "            <td>8</td>\n",
       "            <td>mouse</td>\n",
       "            <td>1999</td>\n",
       "            <td>3400</td>\n",
       "        </tr>\n",
       "        <tr>\n",
       "            <td>9</td>\n",
       "            <td>mouse</td>\n",
       "            <td>2000</td>\n",
       "            <td>4600</td>\n",
       "        </tr>\n",
       "    </tbody>\n",
       "</table>"
      ],
      "text/plain": [
       "[(1, 'Laptop', 1998, 2500),\n",
       " (2, 'Laptop', 1999, 3600),\n",
       " (3, 'Laptop', 2000, 4200),\n",
       " (4, 'Keyboard', 1998, 2300),\n",
       " (5, 'Keyboard', 1999, 4800),\n",
       " (6, 'Keyboard', 2000, 5000),\n",
       " (7, 'mouse', 1998, 6000),\n",
       " (8, 'mouse', 1999, 3400),\n",
       " (9, 'mouse', 2000, 4600)]"
      ]
     },
     "execution_count": 7,
     "metadata": {},
     "output_type": "execute_result"
    }
   ],
   "source": [
    "%sql select * from sales"
   ]
  },
  {
   "cell_type": "markdown",
   "metadata": {},
   "source": [
    "SQL to get total sales for year 1998,1999,2000 for all products column wise"
   ]
  },
  {
   "cell_type": "code",
   "execution_count": 14,
   "metadata": {},
   "outputs": [
    {
     "name": "stdout",
     "output_type": "stream",
     "text": [
      " * sqlite:///./test.db\n",
      "Done.\n"
     ]
    },
    {
     "data": {
      "text/html": [
       "<table>\n",
       "    <thead>\n",
       "        <tr>\n",
       "            <th>total_sales</th>\n",
       "            <th>1998</th>\n",
       "            <th>1999</th>\n",
       "            <th>2000</th>\n",
       "        </tr>\n",
       "    </thead>\n",
       "    <tbody>\n",
       "        <tr>\n",
       "            <td>total sales</td>\n",
       "            <td>10800</td>\n",
       "            <td>11800</td>\n",
       "            <td>13800</td>\n",
       "        </tr>\n",
       "    </tbody>\n",
       "</table>"
      ],
      "text/plain": [
       "[('total sales', 10800, 11800, 13800)]"
      ]
     },
     "execution_count": 14,
     "metadata": {},
     "output_type": "execute_result"
    }
   ],
   "source": [
    "%%sql \n",
    "select 'total sales' total_sales,sum(`1998_sales`) '1998',sum(`1999_sales`) '1999',sum(`2000_sales`) '2000' from (\n",
    "select case when salesyear='1998' then quantitysold else 0 end '1998_sales',\n",
    "            case when salesyear='1999' then quantitysold else 0 end '1999_sales',\n",
    "            case when salesyear='2000' then quantitysold else 0 end '2000_sales'\n",
    "from sales )x"
   ]
  },
  {
   "cell_type": "markdown",
   "metadata": {},
   "source": [
    "### Using Pivot\n",
    "\n",
    "select 'totalslaes' totalsales,`1998`,`1999`,`2000` from\n",
    "(select quantitysold,salesyear from sales) p\n",
    "pivot (\n",
    "sum(quantitysold)\n",
    "    for salesyear in (1998,1999,2000)\n",
    ") as PivotTable"
   ]
  }
 ],
 "metadata": {
  "kernelspec": {
   "display_name": "Python 3",
   "language": "python",
   "name": "python3"
  },
  "language_info": {
   "codemirror_mode": {
    "name": "ipython",
    "version": 3
   },
   "file_extension": ".py",
   "mimetype": "text/x-python",
   "name": "python",
   "nbconvert_exporter": "python",
   "pygments_lexer": "ipython3",
   "version": "3.8.5"
  }
 },
 "nbformat": 4,
 "nbformat_minor": 4
}
