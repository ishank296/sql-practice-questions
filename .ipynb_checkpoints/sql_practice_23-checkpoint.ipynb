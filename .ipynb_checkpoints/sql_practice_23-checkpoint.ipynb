{
 "cells": [
  {
   "cell_type": "code",
   "execution_count": 1,
   "metadata": {},
   "outputs": [],
   "source": [
    "%load_ext sql"
   ]
  },
  {
   "cell_type": "code",
   "execution_count": 2,
   "metadata": {},
   "outputs": [
    {
     "data": {
      "text/plain": [
       "'Connected: @./test.db'"
      ]
     },
     "execution_count": 2,
     "metadata": {},
     "output_type": "execute_result"
    }
   ],
   "source": [
    "%sql sqlite:///./test.db"
   ]
  },
  {
   "cell_type": "code",
   "execution_count": 3,
   "metadata": {},
   "outputs": [
    {
     "name": "stdout",
     "output_type": "stream",
     "text": [
      " * sqlite:///./test.db\n",
      "Done.\n"
     ]
    },
    {
     "data": {
      "text/plain": [
       "[]"
      ]
     },
     "execution_count": 3,
     "metadata": {},
     "output_type": "execute_result"
    }
   ],
   "source": [
    "%%sql \n",
    "Create Table Travel_Table(\n",
    "Start_Location Varchar(30),\n",
    "End_Location Varchar(30),\n",
    "Distance int)"
   ]
  },
  {
   "cell_type": "code",
   "execution_count": 5,
   "metadata": {},
   "outputs": [
    {
     "name": "stdout",
     "output_type": "stream",
     "text": [
      " * sqlite:///./test.db\n",
      "1 rows affected.\n",
      "1 rows affected.\n",
      "1 rows affected.\n",
      "1 rows affected.\n",
      "1 rows affected.\n",
      "1 rows affected.\n"
     ]
    },
    {
     "data": {
      "text/plain": [
       "[]"
      ]
     },
     "execution_count": 5,
     "metadata": {},
     "output_type": "execute_result"
    }
   ],
   "source": [
    "%%sql\n",
    "Insert into Travel_Table Values('Delhi','Pune',1400);\n",
    "Insert into Travel_Table Values('Pune','Delhi',1400);\n",
    "Insert into Travel_Table Values('Bangalore','Chennai',350);\n",
    "Insert into Travel_Table Values('Mumbai','Ahmedabad',500);\n",
    "Insert into Travel_Table Values('Chennai','Bangalore',350);\n",
    "Insert into Travel_Table Values('Patna','Ranchi',300);"
   ]
  },
  {
   "cell_type": "code",
   "execution_count": 6,
   "metadata": {},
   "outputs": [
    {
     "name": "stdout",
     "output_type": "stream",
     "text": [
      " * sqlite:///./test.db\n",
      "Done.\n"
     ]
    },
    {
     "data": {
      "text/html": [
       "<table>\n",
       "    <thead>\n",
       "        <tr>\n",
       "            <th>Start_Location</th>\n",
       "            <th>End_Location</th>\n",
       "            <th>Distance</th>\n",
       "        </tr>\n",
       "    </thead>\n",
       "    <tbody>\n",
       "        <tr>\n",
       "            <td>Delhi</td>\n",
       "            <td>Pune</td>\n",
       "            <td>1400</td>\n",
       "        </tr>\n",
       "        <tr>\n",
       "            <td>Pune</td>\n",
       "            <td>Delhi</td>\n",
       "            <td>1400</td>\n",
       "        </tr>\n",
       "        <tr>\n",
       "            <td>Bangalore</td>\n",
       "            <td>Chennai</td>\n",
       "            <td>350</td>\n",
       "        </tr>\n",
       "        <tr>\n",
       "            <td>Mumbai</td>\n",
       "            <td>Ahmedabad</td>\n",
       "            <td>500</td>\n",
       "        </tr>\n",
       "        <tr>\n",
       "            <td>Chennai</td>\n",
       "            <td>Bangalore</td>\n",
       "            <td>350</td>\n",
       "        </tr>\n",
       "        <tr>\n",
       "            <td>Patna</td>\n",
       "            <td>Ranchi</td>\n",
       "            <td>300</td>\n",
       "        </tr>\n",
       "    </tbody>\n",
       "</table>"
      ],
      "text/plain": [
       "[('Delhi', 'Pune', 1400),\n",
       " ('Pune', 'Delhi', 1400),\n",
       " ('Bangalore', 'Chennai', 350),\n",
       " ('Mumbai', 'Ahmedabad', 500),\n",
       " ('Chennai', 'Bangalore', 350),\n",
       " ('Patna', 'Ranchi', 300)]"
      ]
     },
     "execution_count": 6,
     "metadata": {},
     "output_type": "execute_result"
    }
   ],
   "source": [
    "%sql select * from travel_table"
   ]
  },
  {
   "cell_type": "markdown",
   "metadata": {},
   "source": [
    "SQL to get unique combination of  two columns Source and Destination irrespective of order of columns "
   ]
  },
  {
   "cell_type": "code",
   "execution_count": 11,
   "metadata": {},
   "outputs": [
    {
     "name": "stdout",
     "output_type": "stream",
     "text": [
      " * sqlite:///./test.db\n",
      "Done.\n"
     ]
    },
    {
     "data": {
      "text/html": [
       "<table>\n",
       "    <thead>\n",
       "        <tr>\n",
       "            <th>Start_Location</th>\n",
       "            <th>End_Location</th>\n",
       "            <th>Distance</th>\n",
       "        </tr>\n",
       "    </thead>\n",
       "    <tbody>\n",
       "        <tr>\n",
       "            <td>Bangalore</td>\n",
       "            <td>Chennai</td>\n",
       "            <td>350</td>\n",
       "        </tr>\n",
       "        <tr>\n",
       "            <td>Delhi</td>\n",
       "            <td>Pune</td>\n",
       "            <td>1400</td>\n",
       "        </tr>\n",
       "        <tr>\n",
       "            <td>Mumbai</td>\n",
       "            <td>Ahmedabad</td>\n",
       "            <td>500</td>\n",
       "        </tr>\n",
       "        <tr>\n",
       "            <td>Patna</td>\n",
       "            <td>Ranchi</td>\n",
       "            <td>300</td>\n",
       "        </tr>\n",
       "    </tbody>\n",
       "</table>"
      ],
      "text/plain": [
       "[('Bangalore', 'Chennai', 350),\n",
       " ('Delhi', 'Pune', 1400),\n",
       " ('Mumbai', 'Ahmedabad', 500),\n",
       " ('Patna', 'Ranchi', 300)]"
      ]
     },
     "execution_count": 11,
     "metadata": {},
     "output_type": "execute_result"
    }
   ],
   "source": [
    "%%sql\n",
    "select * from travel_table\n",
    "where start_location < end_location\n",
    "union\n",
    "select * from travel_table where start_location not in (\n",
    "    select end_location from travel_table)"
   ]
  }
 ],
 "metadata": {
  "kernelspec": {
   "display_name": "Python 3",
   "language": "python",
   "name": "python3"
  },
  "language_info": {
   "codemirror_mode": {
    "name": "ipython",
    "version": 3
   },
   "file_extension": ".py",
   "mimetype": "text/x-python",
   "name": "python",
   "nbconvert_exporter": "python",
   "pygments_lexer": "ipython3",
   "version": "3.8.5"
  }
 },
 "nbformat": 4,
 "nbformat_minor": 4
}
