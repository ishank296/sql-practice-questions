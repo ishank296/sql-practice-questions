{
 "cells": [
  {
   "cell_type": "code",
   "execution_count": 1,
   "metadata": {},
   "outputs": [],
   "source": [
    "%load_ext sql"
   ]
  },
  {
   "cell_type": "code",
   "execution_count": 3,
   "metadata": {},
   "outputs": [
    {
     "data": {
      "text/plain": [
       "'Connected: @./test.db'"
      ]
     },
     "execution_count": 3,
     "metadata": {},
     "output_type": "execute_result"
    }
   ],
   "source": [
    "%sql sqlite:///./test.db"
   ]
  },
  {
   "cell_type": "code",
   "execution_count": 5,
   "metadata": {},
   "outputs": [
    {
     "name": "stdout",
     "output_type": "stream",
     "text": [
      " * sqlite:///./test.db\n",
      "Done.\n",
      "Done.\n"
     ]
    },
    {
     "data": {
      "text/plain": [
       "[]"
      ]
     },
     "execution_count": 5,
     "metadata": {},
     "output_type": "execute_result"
    }
   ],
   "source": [
    "%%sql\n",
    "Drop table if exists sales_table;\n",
    "Create Table Sales_Table(\n",
    "Sales_Date Date,\n",
    "Sales_Amount Bigint,\n",
    "Currency Varchar(10)\n",
    ");"
   ]
  },
  {
   "cell_type": "code",
   "execution_count": 6,
   "metadata": {},
   "outputs": [
    {
     "name": "stdout",
     "output_type": "stream",
     "text": [
      " * sqlite:///./test.db\n",
      "Done.\n"
     ]
    },
    {
     "data": {
      "text/plain": [
       "[]"
      ]
     },
     "execution_count": 6,
     "metadata": {},
     "output_type": "execute_result"
    }
   ],
   "source": [
    "%%sql\n",
    "CREATE TABLE ExchangeRate_Table(\n",
    " [Source_Currency] varchar(10) ,\n",
    " [Target_Currency] varchar(10),\n",
    " Exchange_Rate float ,\n",
    " [Effective_Start_Date] date \n",
    ") "
   ]
  },
  {
   "cell_type": "code",
   "execution_count": 7,
   "metadata": {},
   "outputs": [
    {
     "name": "stdout",
     "output_type": "stream",
     "text": [
      " * sqlite:///./test.db\n",
      "1 rows affected.\n",
      "1 rows affected.\n",
      "1 rows affected.\n",
      "1 rows affected.\n",
      "1 rows affected.\n",
      "1 rows affected.\n"
     ]
    },
    {
     "data": {
      "text/plain": [
       "[]"
      ]
     },
     "execution_count": 7,
     "metadata": {},
     "output_type": "execute_result"
    }
   ],
   "source": [
    "%%sql\n",
    "INSERT INTO Sales_Table Values ('2020-01-01',500,'INR');\n",
    "INSERT INTO Sales_Table Values ('2020-01-01',100,'GBP');\n",
    "INSERT INTO Sales_Table Values ('2020-01-02',1000,'INR');\n",
    "INSERT INTO Sales_Table Values ('2020-01-02',500,'GBP');\n",
    "INSERT INTO Sales_Table Values ('2020-01-03',500,'INR');\n",
    "INSERT INTO Sales_Table Values ('2020-01-17',200,'GBP');\n"
   ]
  },
  {
   "cell_type": "code",
   "execution_count": 9,
   "metadata": {},
   "outputs": [
    {
     "name": "stdout",
     "output_type": "stream",
     "text": [
      " * sqlite:///./test.db\n",
      "1 rows affected.\n",
      "1 rows affected.\n",
      "1 rows affected.\n",
      "1 rows affected.\n",
      "1 rows affected.\n"
     ]
    },
    {
     "data": {
      "text/plain": [
       "[]"
      ]
     },
     "execution_count": 9,
     "metadata": {},
     "output_type": "execute_result"
    }
   ],
   "source": [
    "%%sql\n",
    "INSERT INTO [ExchangeRate_Table] VALUES ('INR','USD', 0.014,'2019-12-31');\n",
    "INSERT INTO [ExchangeRate_Table] VALUES ('INR','USD', 0.015,'2020-01-02');\n",
    "INSERT INTO [ExchangeRate_Table] VALUES ('GBP','USD', 1.32, '2019-12-20');\n",
    "INSERT INTO [ExchangeRate_Table] VALUES ('GBP','USD', 1.3, '2020-01-01' );\n",
    "INSERT INTO [ExchangeRate_Table] VALUES ('GBP','USD', 1.35, '2020-01-16');"
   ]
  },
  {
   "cell_type": "code",
   "execution_count": 10,
   "metadata": {},
   "outputs": [
    {
     "name": "stdout",
     "output_type": "stream",
     "text": [
      " * sqlite:///./test.db\n",
      "Done.\n"
     ]
    },
    {
     "data": {
      "text/html": [
       "<table>\n",
       "    <thead>\n",
       "        <tr>\n",
       "            <th>Sales_Date</th>\n",
       "            <th>Sales_Amount</th>\n",
       "            <th>Currency</th>\n",
       "        </tr>\n",
       "    </thead>\n",
       "    <tbody>\n",
       "        <tr>\n",
       "            <td>2020-01-01</td>\n",
       "            <td>500</td>\n",
       "            <td>INR</td>\n",
       "        </tr>\n",
       "        <tr>\n",
       "            <td>2020-01-01</td>\n",
       "            <td>100</td>\n",
       "            <td>GBP</td>\n",
       "        </tr>\n",
       "        <tr>\n",
       "            <td>2020-01-02</td>\n",
       "            <td>1000</td>\n",
       "            <td>INR</td>\n",
       "        </tr>\n",
       "        <tr>\n",
       "            <td>2020-01-02</td>\n",
       "            <td>500</td>\n",
       "            <td>GBP</td>\n",
       "        </tr>\n",
       "        <tr>\n",
       "            <td>2020-01-03</td>\n",
       "            <td>500</td>\n",
       "            <td>INR</td>\n",
       "        </tr>\n",
       "        <tr>\n",
       "            <td>2020-01-17</td>\n",
       "            <td>200</td>\n",
       "            <td>GBP</td>\n",
       "        </tr>\n",
       "    </tbody>\n",
       "</table>"
      ],
      "text/plain": [
       "[('2020-01-01', 500, 'INR'),\n",
       " ('2020-01-01', 100, 'GBP'),\n",
       " ('2020-01-02', 1000, 'INR'),\n",
       " ('2020-01-02', 500, 'GBP'),\n",
       " ('2020-01-03', 500, 'INR'),\n",
       " ('2020-01-17', 200, 'GBP')]"
      ]
     },
     "execution_count": 10,
     "metadata": {},
     "output_type": "execute_result"
    }
   ],
   "source": [
    "%sql select * from sales_table;"
   ]
  },
  {
   "cell_type": "code",
   "execution_count": 11,
   "metadata": {},
   "outputs": [
    {
     "name": "stdout",
     "output_type": "stream",
     "text": [
      " * sqlite:///./test.db\n",
      "Done.\n"
     ]
    },
    {
     "data": {
      "text/html": [
       "<table>\n",
       "    <thead>\n",
       "        <tr>\n",
       "            <th>Source_Currency</th>\n",
       "            <th>Target_Currency</th>\n",
       "            <th>Exchange_Rate</th>\n",
       "            <th>Effective_Start_Date</th>\n",
       "        </tr>\n",
       "    </thead>\n",
       "    <tbody>\n",
       "        <tr>\n",
       "            <td>INR</td>\n",
       "            <td>USD</td>\n",
       "            <td>0.014</td>\n",
       "            <td>2019-12-31</td>\n",
       "        </tr>\n",
       "        <tr>\n",
       "            <td>INR</td>\n",
       "            <td>USD</td>\n",
       "            <td>0.015</td>\n",
       "            <td>2020-01-02</td>\n",
       "        </tr>\n",
       "        <tr>\n",
       "            <td>GBP</td>\n",
       "            <td>USD</td>\n",
       "            <td>1.32</td>\n",
       "            <td>2019-12-20</td>\n",
       "        </tr>\n",
       "        <tr>\n",
       "            <td>GBP</td>\n",
       "            <td>USD</td>\n",
       "            <td>1.3</td>\n",
       "            <td>2020-01-01</td>\n",
       "        </tr>\n",
       "        <tr>\n",
       "            <td>GBP</td>\n",
       "            <td>USD</td>\n",
       "            <td>1.35</td>\n",
       "            <td>2020-01-16</td>\n",
       "        </tr>\n",
       "    </tbody>\n",
       "</table>"
      ],
      "text/plain": [
       "[('INR', 'USD', 0.014, '2019-12-31'),\n",
       " ('INR', 'USD', 0.015, '2020-01-02'),\n",
       " ('GBP', 'USD', 1.32, '2019-12-20'),\n",
       " ('GBP', 'USD', 1.3, '2020-01-01'),\n",
       " ('GBP', 'USD', 1.35, '2020-01-16')]"
      ]
     },
     "execution_count": 11,
     "metadata": {},
     "output_type": "execute_result"
    }
   ],
   "source": [
    "%sql select * from exchangerate_Table"
   ]
  },
  {
   "cell_type": "markdown",
   "metadata": {},
   "source": [
    "Write SQL to get Total  sales amount in USD for each sales date "
   ]
  },
  {
   "cell_type": "code",
   "execution_count": 38,
   "metadata": {},
   "outputs": [
    {
     "name": "stdout",
     "output_type": "stream",
     "text": [
      " * sqlite:///./test.db\n",
      "Done.\n"
     ]
    },
    {
     "data": {
      "text/html": [
       "<table>\n",
       "    <thead>\n",
       "        <tr>\n",
       "            <th>Sales_Date</th>\n",
       "            <th>sum(sales_amount*exchange_rate)</th>\n",
       "        </tr>\n",
       "    </thead>\n",
       "    <tbody>\n",
       "        <tr>\n",
       "            <td>2020-01-01</td>\n",
       "            <td>137.0</td>\n",
       "        </tr>\n",
       "        <tr>\n",
       "            <td>2020-01-02</td>\n",
       "            <td>665.0</td>\n",
       "        </tr>\n",
       "        <tr>\n",
       "            <td>2020-01-03</td>\n",
       "            <td>7.5</td>\n",
       "        </tr>\n",
       "        <tr>\n",
       "            <td>2020-01-17</td>\n",
       "            <td>270.0</td>\n",
       "        </tr>\n",
       "    </tbody>\n",
       "</table>"
      ],
      "text/plain": [
       "[('2020-01-01', 137.0),\n",
       " ('2020-01-02', 665.0),\n",
       " ('2020-01-03', 7.5),\n",
       " ('2020-01-17', 270.0)]"
      ]
     },
     "execution_count": 38,
     "metadata": {},
     "output_type": "execute_result"
    }
   ],
   "source": [
    "%%sql\n",
    "select sales_date,sum(sales_amount*exchange_rate) from sales_table s join (\n",
    "select *,\n",
    "ifnull(date(lead(effective_start_date) \n",
    "        over(partition by source_currency \n",
    "        order by effective_start_Date),'-1 day'),'9999-12-31') effective_end_date\n",
    "from exchangerate_table\n",
    ") e\n",
    "on s.currency=e.source_currency and\n",
    " (s.sales_date between e.effective_start_date and e.effective_end_date)\n",
    "    group by sales_date"
   ]
  }
 ],
 "metadata": {
  "kernelspec": {
   "display_name": "Python 3",
   "language": "python",
   "name": "python3"
  },
  "language_info": {
   "codemirror_mode": {
    "name": "ipython",
    "version": 3
   },
   "file_extension": ".py",
   "mimetype": "text/x-python",
   "name": "python",
   "nbconvert_exporter": "python",
   "pygments_lexer": "ipython3",
   "version": "3.8.5"
  }
 },
 "nbformat": 4,
 "nbformat_minor": 4
}
