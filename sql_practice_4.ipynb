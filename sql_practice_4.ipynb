{
 "cells": [
  {
   "cell_type": "code",
   "execution_count": 2,
   "metadata": {},
   "outputs": [],
   "source": [
    "%load_ext sql"
   ]
  },
  {
   "cell_type": "code",
   "execution_count": 5,
   "metadata": {},
   "outputs": [
    {
     "data": {
      "text/plain": [
       "'Connected: @./test.db'"
      ]
     },
     "execution_count": 5,
     "metadata": {},
     "output_type": "execute_result"
    }
   ],
   "source": [
    "%sql sqlite:///./test.db"
   ]
  },
  {
   "cell_type": "code",
   "execution_count": 8,
   "metadata": {},
   "outputs": [
    {
     "name": "stdout",
     "output_type": "stream",
     "text": [
      " * sqlite:///./test.db\n",
      "Done.\n",
      "Done.\n"
     ]
    },
    {
     "data": {
      "text/plain": [
       "[]"
      ]
     },
     "execution_count": 8,
     "metadata": {},
     "output_type": "execute_result"
    }
   ],
   "source": [
    "%%sql\n",
    "DROP Table if exists Emp_Details;\n",
    "CREATE TABLE Emp_Details (\n",
    "EMPID int,\n",
    "Gender varchar,\n",
    "EmailID varchar(30),\n",
    "DeptID int)\n"
   ]
  },
  {
   "cell_type": "code",
   "execution_count": 9,
   "metadata": {},
   "outputs": [
    {
     "name": "stdout",
     "output_type": "stream",
     "text": [
      " * sqlite:///./test.db\n",
      "1 rows affected.\n",
      "1 rows affected.\n",
      "1 rows affected.\n",
      "1 rows affected.\n",
      "1 rows affected.\n",
      "1 rows affected.\n",
      "1 rows affected.\n",
      "1 rows affected.\n",
      "1 rows affected.\n"
     ]
    },
    {
     "data": {
      "text/plain": [
       "[]"
      ]
     },
     "execution_count": 9,
     "metadata": {},
     "output_type": "execute_result"
    }
   ],
   "source": [
    "%%sql\n",
    "\n",
    "INSERT INTO Emp_Details VALUES (1001,'M','YYYYY@gmaix.com',104);\n",
    "INSERT INTO Emp_Details VALUES (1002,'M','ZZZ@gmaix.com',103);\n",
    "INSERT INTO Emp_Details VALUES (1003,'F','AAAAA@gmaix.com',102);\n",
    "INSERT INTO Emp_Details VALUES (1004,'F','PP@gmaix.com',104);\n",
    "INSERT INTO Emp_Details VALUES (1005,'M','CCCC@yahu.com',101);\n",
    "INSERT INTO Emp_Details VALUES (1006,'M','DDDDD@yahu.com',100);\n",
    "INSERT INTO Emp_Details VALUES (1007,'F','E@yahu.com',102);\n",
    "INSERT INTO Emp_Details VALUES (1008,'M','M@yahu.com',102);\n",
    "INSERT INTO Emp_Details VALUES (1009,'F','SS@yahu.com',100);"
   ]
  },
  {
   "cell_type": "code",
   "execution_count": 11,
   "metadata": {},
   "outputs": [
    {
     "name": "stdout",
     "output_type": "stream",
     "text": [
      " * sqlite:///./test.db\n",
      "Done.\n"
     ]
    },
    {
     "data": {
      "text/html": [
       "<table>\n",
       "    <thead>\n",
       "        <tr>\n",
       "            <th>EMPID</th>\n",
       "            <th>Gender</th>\n",
       "            <th>EmailID</th>\n",
       "            <th>DeptID</th>\n",
       "        </tr>\n",
       "    </thead>\n",
       "    <tbody>\n",
       "        <tr>\n",
       "            <td>1001</td>\n",
       "            <td>M</td>\n",
       "            <td>YYYYY@gmaix.com</td>\n",
       "            <td>104</td>\n",
       "        </tr>\n",
       "        <tr>\n",
       "            <td>1002</td>\n",
       "            <td>M</td>\n",
       "            <td>ZZZ@gmaix.com</td>\n",
       "            <td>103</td>\n",
       "        </tr>\n",
       "        <tr>\n",
       "            <td>1003</td>\n",
       "            <td>F</td>\n",
       "            <td>AAAAA@gmaix.com</td>\n",
       "            <td>102</td>\n",
       "        </tr>\n",
       "        <tr>\n",
       "            <td>1004</td>\n",
       "            <td>F</td>\n",
       "            <td>PP@gmaix.com</td>\n",
       "            <td>104</td>\n",
       "        </tr>\n",
       "        <tr>\n",
       "            <td>1005</td>\n",
       "            <td>M</td>\n",
       "            <td>CCCC@yahu.com</td>\n",
       "            <td>101</td>\n",
       "        </tr>\n",
       "        <tr>\n",
       "            <td>1006</td>\n",
       "            <td>M</td>\n",
       "            <td>DDDDD@yahu.com</td>\n",
       "            <td>100</td>\n",
       "        </tr>\n",
       "        <tr>\n",
       "            <td>1007</td>\n",
       "            <td>F</td>\n",
       "            <td>E@yahu.com</td>\n",
       "            <td>102</td>\n",
       "        </tr>\n",
       "        <tr>\n",
       "            <td>1008</td>\n",
       "            <td>M</td>\n",
       "            <td>M@yahu.com</td>\n",
       "            <td>102</td>\n",
       "        </tr>\n",
       "        <tr>\n",
       "            <td>1009</td>\n",
       "            <td>F</td>\n",
       "            <td>SS@yahu.com</td>\n",
       "            <td>100</td>\n",
       "        </tr>\n",
       "    </tbody>\n",
       "</table>"
      ],
      "text/plain": [
       "[(1001, 'M', 'YYYYY@gmaix.com', 104),\n",
       " (1002, 'M', 'ZZZ@gmaix.com', 103),\n",
       " (1003, 'F', 'AAAAA@gmaix.com', 102),\n",
       " (1004, 'F', 'PP@gmaix.com', 104),\n",
       " (1005, 'M', 'CCCC@yahu.com', 101),\n",
       " (1006, 'M', 'DDDDD@yahu.com', 100),\n",
       " (1007, 'F', 'E@yahu.com', 102),\n",
       " (1008, 'M', 'M@yahu.com', 102),\n",
       " (1009, 'F', 'SS@yahu.com', 100)]"
      ]
     },
     "execution_count": 11,
     "metadata": {},
     "output_type": "execute_result"
    }
   ],
   "source": [
    "%sql select * from Emp_Details"
   ]
  },
  {
   "cell_type": "markdown",
   "metadata": {},
   "source": [
    "SQL to derive one more column \"email list\" to display all email id concatednated with ; associated with each \n",
    "department ID"
   ]
  }
 ],
 "metadata": {
  "kernelspec": {
   "display_name": "Python 3",
   "language": "python",
   "name": "python3"
  },
  "language_info": {
   "codemirror_mode": {
    "name": "ipython",
    "version": 3
   },
   "file_extension": ".py",
   "mimetype": "text/x-python",
   "name": "python",
   "nbconvert_exporter": "python",
   "pygments_lexer": "ipython3",
   "version": "3.8.5"
  }
 },
 "nbformat": 4,
 "nbformat_minor": 4
}
