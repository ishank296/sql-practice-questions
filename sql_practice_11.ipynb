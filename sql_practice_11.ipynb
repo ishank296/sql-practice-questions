{
 "cells": [
  {
   "cell_type": "code",
   "execution_count": 1,
   "metadata": {},
   "outputs": [],
   "source": [
    "%load_ext sql"
   ]
  },
  {
   "cell_type": "code",
   "execution_count": 2,
   "metadata": {},
   "outputs": [
    {
     "data": {
      "text/plain": [
       "'Connected: @./test.db'"
      ]
     },
     "execution_count": 2,
     "metadata": {},
     "output_type": "execute_result"
    }
   ],
   "source": [
    "%sql sqlite:///./test.db"
   ]
  },
  {
   "cell_type": "code",
   "execution_count": 3,
   "metadata": {},
   "outputs": [
    {
     "name": "stdout",
     "output_type": "stream",
     "text": [
      " * sqlite:///./test.db\n",
      "Done.\n",
      "Done.\n"
     ]
    },
    {
     "data": {
      "text/plain": [
       "[]"
      ]
     },
     "execution_count": 3,
     "metadata": {},
     "output_type": "execute_result"
    }
   ],
   "source": [
    "%%sql\n",
    "drop table if exists test_match;\n",
    "create table test_match(team_1 string,team_2 string, result string);"
   ]
  },
  {
   "cell_type": "code",
   "execution_count": 5,
   "metadata": {},
   "outputs": [
    {
     "name": "stdout",
     "output_type": "stream",
     "text": [
      " * sqlite:///./test.db\n",
      "6 rows affected.\n"
     ]
    },
    {
     "data": {
      "text/plain": [
       "[]"
      ]
     },
     "execution_count": 5,
     "metadata": {},
     "output_type": "execute_result"
    }
   ],
   "source": [
    "%%sql\n",
    "insert into test_match values\n",
    "('India','Australia','India'),\n",
    "('India','England','England'),\n",
    "('SouthAfrica','India','India'),\n",
    "('Australia','England',Null),\n",
    "('England','SouthAfrica','SouthAfrica'),\n",
    "('Australia','India','Australia')\n",
    ";"
   ]
  },
  {
   "cell_type": "code",
   "execution_count": 6,
   "metadata": {},
   "outputs": [
    {
     "name": "stdout",
     "output_type": "stream",
     "text": [
      " * sqlite:///./test.db\n",
      "Done.\n"
     ]
    },
    {
     "data": {
      "text/html": [
       "<table>\n",
       "    <thead>\n",
       "        <tr>\n",
       "            <th>team_1</th>\n",
       "            <th>team_2</th>\n",
       "            <th>result</th>\n",
       "        </tr>\n",
       "    </thead>\n",
       "    <tbody>\n",
       "        <tr>\n",
       "            <td>India</td>\n",
       "            <td>Australia</td>\n",
       "            <td>India</td>\n",
       "        </tr>\n",
       "        <tr>\n",
       "            <td>India</td>\n",
       "            <td>England</td>\n",
       "            <td>England</td>\n",
       "        </tr>\n",
       "        <tr>\n",
       "            <td>SouthAfrica</td>\n",
       "            <td>India</td>\n",
       "            <td>India</td>\n",
       "        </tr>\n",
       "        <tr>\n",
       "            <td>Australia</td>\n",
       "            <td>England</td>\n",
       "            <td>None</td>\n",
       "        </tr>\n",
       "        <tr>\n",
       "            <td>England</td>\n",
       "            <td>SouthAfrica</td>\n",
       "            <td>SouthAfrica</td>\n",
       "        </tr>\n",
       "        <tr>\n",
       "            <td>Australia</td>\n",
       "            <td>India</td>\n",
       "            <td>Australia</td>\n",
       "        </tr>\n",
       "    </tbody>\n",
       "</table>"
      ],
      "text/plain": [
       "[('India', 'Australia', 'India'),\n",
       " ('India', 'England', 'England'),\n",
       " ('SouthAfrica', 'India', 'India'),\n",
       " ('Australia', 'England', None),\n",
       " ('England', 'SouthAfrica', 'SouthAfrica'),\n",
       " ('Australia', 'India', 'Australia')]"
      ]
     },
     "execution_count": 6,
     "metadata": {},
     "output_type": "execute_result"
    }
   ],
   "source": [
    "%sql select * from test_match;"
   ]
  },
  {
   "cell_type": "markdown",
   "metadata": {},
   "source": [
    "SQL to Display total number of matches played,matches won,matches won and matches lost for each of them"
   ]
  },
  {
   "cell_type": "code",
   "execution_count": 28,
   "metadata": {},
   "outputs": [
    {
     "name": "stdout",
     "output_type": "stream",
     "text": [
      " * sqlite:///./test.db\n",
      "Done.\n"
     ]
    },
    {
     "data": {
      "text/html": [
       "<table>\n",
       "    <thead>\n",
       "        <tr>\n",
       "            <th>team</th>\n",
       "            <th>total_matches</th>\n",
       "            <th>total_wins</th>\n",
       "            <th>total_losses</th>\n",
       "            <th>tied</th>\n",
       "        </tr>\n",
       "    </thead>\n",
       "    <tbody>\n",
       "        <tr>\n",
       "            <td>Australia</td>\n",
       "            <td>3</td>\n",
       "            <td>1</td>\n",
       "            <td>1</td>\n",
       "            <td>1</td>\n",
       "        </tr>\n",
       "        <tr>\n",
       "            <td>England</td>\n",
       "            <td>3</td>\n",
       "            <td>1</td>\n",
       "            <td>1</td>\n",
       "            <td>1</td>\n",
       "        </tr>\n",
       "        <tr>\n",
       "            <td>India</td>\n",
       "            <td>4</td>\n",
       "            <td>2</td>\n",
       "            <td>2</td>\n",
       "            <td>0</td>\n",
       "        </tr>\n",
       "        <tr>\n",
       "            <td>SouthAfrica</td>\n",
       "            <td>2</td>\n",
       "            <td>1</td>\n",
       "            <td>1</td>\n",
       "            <td>0</td>\n",
       "        </tr>\n",
       "    </tbody>\n",
       "</table>"
      ],
      "text/plain": [
       "[('Australia', 3, 1, 1, 1),\n",
       " ('England', 3, 1, 1, 1),\n",
       " ('India', 4, 2, 2, 0),\n",
       " ('SouthAfrica', 2, 1, 1, 0)]"
      ]
     },
     "execution_count": 28,
     "metadata": {},
     "output_type": "execute_result"
    }
   ],
   "source": [
    "%%sql\n",
    "\n",
    "select base.team,base.total_matches,win.total_wins,loss.total_losses,ifnull(tie.tied,0) tied from\n",
    "(select team,count(*) total_matches from (\n",
    "select team_1 team from test_match\n",
    "union all\n",
    "select team_2 team from test_match\n",
    ") b group by team) base\n",
    "join \n",
    "(\n",
    "select result as winner,count(*) as total_wins from test_match w group by winner\n",
    ") win \n",
    "on base.team=win.winner\n",
    "join\n",
    "(\n",
    "select case when result=team_1 then team_2\n",
    "     when result=team_2 then team_1\n",
    "else null end loser,count(*) as total_losses from test_match l group by \n",
    "case when result=team_1 then team_2\n",
    "     when result=team_2 then team_1\n",
    "else null end    \n",
    ") loss\n",
    "on base.team=loss.loser\n",
    "left join \n",
    "(\n",
    "select team,count(*) tied from (    \n",
    "select team_1 team from test_match where result is null\n",
    "union all\n",
    "select team_2 team from test_match where result is null\n",
    ")t group by team )tie\n",
    "on base.team=tie.team"
   ]
  }
 ],
 "metadata": {
  "kernelspec": {
   "display_name": "Python 3",
   "language": "python",
   "name": "python3"
  },
  "language_info": {
   "codemirror_mode": {
    "name": "ipython",
    "version": 3
   },
   "file_extension": ".py",
   "mimetype": "text/x-python",
   "name": "python",
   "nbconvert_exporter": "python",
   "pygments_lexer": "ipython3",
   "version": "3.8.5"
  }
 },
 "nbformat": 4,
 "nbformat_minor": 4
}
