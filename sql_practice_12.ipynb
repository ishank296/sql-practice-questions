{
 "cells": [
  {
   "cell_type": "code",
   "execution_count": 1,
   "metadata": {},
   "outputs": [],
   "source": [
    "%load_ext sql"
   ]
  },
  {
   "cell_type": "code",
   "execution_count": 2,
   "metadata": {},
   "outputs": [
    {
     "data": {
      "text/plain": [
       "'Connected: @./test.db'"
      ]
     },
     "execution_count": 2,
     "metadata": {},
     "output_type": "execute_result"
    }
   ],
   "source": [
    "%sql sqlite:///./test.db"
   ]
  },
  {
   "cell_type": "code",
   "execution_count": 3,
   "metadata": {},
   "outputs": [
    {
     "name": "stdout",
     "output_type": "stream",
     "text": [
      " * sqlite:///./test.db\n",
      "Done.\n"
     ]
    },
    {
     "data": {
      "text/plain": [
       "[]"
      ]
     },
     "execution_count": 3,
     "metadata": {},
     "output_type": "execute_result"
    }
   ],
   "source": [
    "%%sql\n",
    "create table transaction_table\n",
    "(\n",
    "AccountNumber int,\n",
    "Transactiontime timestamp,\n",
    "TransactionId int,\n",
    "Balance decimal(19,3)\n",
    ");"
   ]
  },
  {
   "cell_type": "code",
   "execution_count": 4,
   "metadata": {},
   "outputs": [
    {
     "name": "stdout",
     "output_type": "stream",
     "text": [
      " * sqlite:///./test.db\n",
      "7 rows affected.\n"
     ]
    },
    {
     "data": {
      "text/plain": [
       "[]"
      ]
     },
     "execution_count": 4,
     "metadata": {},
     "output_type": "execute_result"
    }
   ],
   "source": [
    "%%sql\n",
    "\n",
    "insert into transaction_table values \n",
    "(550,'2020-05-12 05:29:44',1001,2000),\n",
    "(550,'2020-05-15 10:29:25',1002,8000),\n",
    "(460,'2020-03-15 11:29:23',1003,9000),\n",
    "(460,'2020-04-30 11:29:57',1004,7000),\n",
    "(460,'2020-04-30 12:32:44',1005,5000),\n",
    "(640,'2020-02-18 06:29:34',1006,5000),\n",
    "(640,'2020-02-18 06:29:37',1007,9000);"
   ]
  },
  {
   "cell_type": "code",
   "execution_count": 5,
   "metadata": {},
   "outputs": [
    {
     "name": "stdout",
     "output_type": "stream",
     "text": [
      " * sqlite:///./test.db\n",
      "Done.\n"
     ]
    },
    {
     "data": {
      "text/html": [
       "<table>\n",
       "    <thead>\n",
       "        <tr>\n",
       "            <th>AccountNumber</th>\n",
       "            <th>Transactiontime</th>\n",
       "            <th>TransactionId</th>\n",
       "            <th>Balance</th>\n",
       "        </tr>\n",
       "    </thead>\n",
       "    <tbody>\n",
       "        <tr>\n",
       "            <td>550</td>\n",
       "            <td>2020-05-12 05:29:44</td>\n",
       "            <td>1001</td>\n",
       "            <td>2000</td>\n",
       "        </tr>\n",
       "        <tr>\n",
       "            <td>550</td>\n",
       "            <td>2020-05-15 10:29:25</td>\n",
       "            <td>1002</td>\n",
       "            <td>8000</td>\n",
       "        </tr>\n",
       "        <tr>\n",
       "            <td>460</td>\n",
       "            <td>2020-03-15 11:29:23</td>\n",
       "            <td>1003</td>\n",
       "            <td>9000</td>\n",
       "        </tr>\n",
       "        <tr>\n",
       "            <td>460</td>\n",
       "            <td>2020-04-30 11:29:57</td>\n",
       "            <td>1004</td>\n",
       "            <td>7000</td>\n",
       "        </tr>\n",
       "        <tr>\n",
       "            <td>460</td>\n",
       "            <td>2020-04-30 12:32:44</td>\n",
       "            <td>1005</td>\n",
       "            <td>5000</td>\n",
       "        </tr>\n",
       "        <tr>\n",
       "            <td>640</td>\n",
       "            <td>2020-02-18 06:29:34</td>\n",
       "            <td>1006</td>\n",
       "            <td>5000</td>\n",
       "        </tr>\n",
       "        <tr>\n",
       "            <td>640</td>\n",
       "            <td>2020-02-18 06:29:37</td>\n",
       "            <td>1007</td>\n",
       "            <td>9000</td>\n",
       "        </tr>\n",
       "    </tbody>\n",
       "</table>"
      ],
      "text/plain": [
       "[(550, '2020-05-12 05:29:44', 1001, 2000),\n",
       " (550, '2020-05-15 10:29:25', 1002, 8000),\n",
       " (460, '2020-03-15 11:29:23', 1003, 9000),\n",
       " (460, '2020-04-30 11:29:57', 1004, 7000),\n",
       " (460, '2020-04-30 12:32:44', 1005, 5000),\n",
       " (640, '2020-02-18 06:29:34', 1006, 5000),\n",
       " (640, '2020-02-18 06:29:37', 1007, 9000)]"
      ]
     },
     "execution_count": 5,
     "metadata": {},
     "output_type": "execute_result"
    }
   ],
   "source": [
    "%sql select * from transaction_table"
   ]
  },
  {
   "cell_type": "markdown",
   "metadata": {},
   "source": [
    "SQL to get most recent transactionid/balance for each account number"
   ]
  },
  {
   "cell_type": "code",
   "execution_count": 10,
   "metadata": {},
   "outputs": [
    {
     "name": "stdout",
     "output_type": "stream",
     "text": [
      " * sqlite:///./test.db\n",
      "Done.\n"
     ]
    },
    {
     "data": {
      "text/html": [
       "<table>\n",
       "    <thead>\n",
       "        <tr>\n",
       "            <th>AccountNumber</th>\n",
       "            <th>transactionid</th>\n",
       "            <th>transactiontime</th>\n",
       "            <th>balance</th>\n",
       "            <th>rnk</th>\n",
       "        </tr>\n",
       "    </thead>\n",
       "    <tbody>\n",
       "        <tr>\n",
       "            <td>460</td>\n",
       "            <td>1005</td>\n",
       "            <td>2020-04-30 12:32:44</td>\n",
       "            <td>5000</td>\n",
       "            <td>1</td>\n",
       "        </tr>\n",
       "        <tr>\n",
       "            <td>550</td>\n",
       "            <td>1002</td>\n",
       "            <td>2020-05-15 10:29:25</td>\n",
       "            <td>8000</td>\n",
       "            <td>1</td>\n",
       "        </tr>\n",
       "        <tr>\n",
       "            <td>640</td>\n",
       "            <td>1007</td>\n",
       "            <td>2020-02-18 06:29:37</td>\n",
       "            <td>9000</td>\n",
       "            <td>1</td>\n",
       "        </tr>\n",
       "    </tbody>\n",
       "</table>"
      ],
      "text/plain": [
       "[(460, 1005, '2020-04-30 12:32:44', 5000, 1),\n",
       " (550, 1002, '2020-05-15 10:29:25', 8000, 1),\n",
       " (640, 1007, '2020-02-18 06:29:37', 9000, 1)]"
      ]
     },
     "execution_count": 10,
     "metadata": {},
     "output_type": "execute_result"
    }
   ],
   "source": [
    "%%sql\n",
    "select * from (\n",
    "select AccountNumber,transactionid,transactiontime,balance,row_number() \n",
    "over (partition by accountnumber order by transactiontime desc) rnk\n",
    "from transaction_table)x where rnk=1"
   ]
  }
 ],
 "metadata": {
  "kernelspec": {
   "display_name": "Python 3",
   "language": "python",
   "name": "python3"
  },
  "language_info": {
   "codemirror_mode": {
    "name": "ipython",
    "version": 3
   },
   "file_extension": ".py",
   "mimetype": "text/x-python",
   "name": "python",
   "nbconvert_exporter": "python",
   "pygments_lexer": "ipython3",
   "version": "3.8.5"
  }
 },
 "nbformat": 4,
 "nbformat_minor": 4
}
