{
 "cells": [
  {
   "cell_type": "code",
   "execution_count": 1,
   "metadata": {},
   "outputs": [],
   "source": [
    "%load_ext sql"
   ]
  },
  {
   "cell_type": "code",
   "execution_count": 2,
   "metadata": {},
   "outputs": [
    {
     "data": {
      "text/plain": [
       "'Connected: @./test.db'"
      ]
     },
     "execution_count": 2,
     "metadata": {},
     "output_type": "execute_result"
    }
   ],
   "source": [
    "%sql sqlite:///./test.db"
   ]
  },
  {
   "cell_type": "code",
   "execution_count": 3,
   "metadata": {},
   "outputs": [
    {
     "name": "stdout",
     "output_type": "stream",
     "text": [
      " * sqlite:///./test.db\n",
      "Done.\n",
      "Done.\n"
     ]
    },
    {
     "data": {
      "text/plain": [
       "[]"
      ]
     },
     "execution_count": 3,
     "metadata": {},
     "output_type": "execute_result"
    }
   ],
   "source": [
    "%%sql\n",
    "DROP TABLE IF EXISTS Employee;\n",
    "CREATE TABLE Employee (EmpID int, EmpName varchar(25), Salary int, DeptID int);"
   ]
  },
  {
   "cell_type": "code",
   "execution_count": 4,
   "metadata": {},
   "outputs": [
    {
     "name": "stdout",
     "output_type": "stream",
     "text": [
      " * sqlite:///./test.db\n",
      "7 rows affected.\n"
     ]
    },
    {
     "data": {
      "text/plain": [
       "[]"
      ]
     },
     "execution_count": 4,
     "metadata": {},
     "output_type": "execute_result"
    }
   ],
   "source": [
    "%%sql\n",
    "INSERT INTO Employee\n",
    "VALUES\n",
    "(1001, 'Mark', 60000, 2),\n",
    "(1002, 'Antony', 40000, 2),\n",
    "(1003, 'Andrew', 15000, 1),\n",
    "(1004, 'Peter', 35000, 1),\n",
    "(1005, 'John', 55000, 1),\n",
    "(1006, 'Albert', 25000, 3),\n",
    "(1007, 'Donald', 35000, 3);"
   ]
  },
  {
   "cell_type": "code",
   "execution_count": 5,
   "metadata": {},
   "outputs": [
    {
     "name": "stdout",
     "output_type": "stream",
     "text": [
      " * sqlite:///./test.db\n",
      "Done.\n"
     ]
    },
    {
     "data": {
      "text/html": [
       "<table>\n",
       "    <thead>\n",
       "        <tr>\n",
       "            <th>EmpID</th>\n",
       "            <th>EmpName</th>\n",
       "            <th>Salary</th>\n",
       "            <th>DeptID</th>\n",
       "        </tr>\n",
       "    </thead>\n",
       "    <tbody>\n",
       "        <tr>\n",
       "            <td>1001</td>\n",
       "            <td>Mark</td>\n",
       "            <td>60000</td>\n",
       "            <td>2</td>\n",
       "        </tr>\n",
       "        <tr>\n",
       "            <td>1002</td>\n",
       "            <td>Antony</td>\n",
       "            <td>40000</td>\n",
       "            <td>2</td>\n",
       "        </tr>\n",
       "        <tr>\n",
       "            <td>1003</td>\n",
       "            <td>Andrew</td>\n",
       "            <td>15000</td>\n",
       "            <td>1</td>\n",
       "        </tr>\n",
       "        <tr>\n",
       "            <td>1004</td>\n",
       "            <td>Peter</td>\n",
       "            <td>35000</td>\n",
       "            <td>1</td>\n",
       "        </tr>\n",
       "        <tr>\n",
       "            <td>1005</td>\n",
       "            <td>John</td>\n",
       "            <td>55000</td>\n",
       "            <td>1</td>\n",
       "        </tr>\n",
       "        <tr>\n",
       "            <td>1006</td>\n",
       "            <td>Albert</td>\n",
       "            <td>25000</td>\n",
       "            <td>3</td>\n",
       "        </tr>\n",
       "        <tr>\n",
       "            <td>1007</td>\n",
       "            <td>Donald</td>\n",
       "            <td>35000</td>\n",
       "            <td>3</td>\n",
       "        </tr>\n",
       "    </tbody>\n",
       "</table>"
      ],
      "text/plain": [
       "[(1001, 'Mark', 60000, 2),\n",
       " (1002, 'Antony', 40000, 2),\n",
       " (1003, 'Andrew', 15000, 1),\n",
       " (1004, 'Peter', 35000, 1),\n",
       " (1005, 'John', 55000, 1),\n",
       " (1006, 'Albert', 25000, 3),\n",
       " (1007, 'Donald', 35000, 3)]"
      ]
     },
     "execution_count": 5,
     "metadata": {},
     "output_type": "execute_result"
    }
   ],
   "source": [
    "%sql select * from Employee"
   ]
  },
  {
   "cell_type": "markdown",
   "metadata": {},
   "source": [
    "SQL to find All Employees who earn more than average salary in their corresponding department"
   ]
  },
  {
   "cell_type": "code",
   "execution_count": 6,
   "metadata": {},
   "outputs": [
    {
     "name": "stdout",
     "output_type": "stream",
     "text": [
      " * sqlite:///./test.db\n",
      "Done.\n"
     ]
    },
    {
     "data": {
      "text/html": [
       "<table>\n",
       "    <thead>\n",
       "        <tr>\n",
       "            <th>EmpID</th>\n",
       "            <th>EmpName</th>\n",
       "            <th>Salary</th>\n",
       "            <th>DeptID</th>\n",
       "            <th>AvgSalary</th>\n",
       "        </tr>\n",
       "    </thead>\n",
       "    <tbody>\n",
       "        <tr>\n",
       "            <td>1001</td>\n",
       "            <td>Mark</td>\n",
       "            <td>60000</td>\n",
       "            <td>2</td>\n",
       "            <td>50000.0</td>\n",
       "        </tr>\n",
       "        <tr>\n",
       "            <td>1005</td>\n",
       "            <td>John</td>\n",
       "            <td>55000</td>\n",
       "            <td>1</td>\n",
       "            <td>35000.0</td>\n",
       "        </tr>\n",
       "        <tr>\n",
       "            <td>1007</td>\n",
       "            <td>Donald</td>\n",
       "            <td>35000</td>\n",
       "            <td>3</td>\n",
       "            <td>30000.0</td>\n",
       "        </tr>\n",
       "    </tbody>\n",
       "</table>"
      ],
      "text/plain": [
       "[(1001, 'Mark', 60000, 2, 50000.0),\n",
       " (1005, 'John', 55000, 1, 35000.0),\n",
       " (1007, 'Donald', 35000, 3, 30000.0)]"
      ]
     },
     "execution_count": 6,
     "metadata": {},
     "output_type": "execute_result"
    }
   ],
   "source": [
    "%%sql\n",
    "select t1.*,t2.avg_salary AvgSalary\n",
    "from Employee t1 join (select DeptId,avg(salary) avg_salary from Employee group by DeptId) t2\n",
    "on t1.DeptId=t2.DeptId\n",
    "where t1.salary > t2.avg_salary"
   ]
  },
  {
   "cell_type": "code",
   "execution_count": 10,
   "metadata": {},
   "outputs": [
    {
     "name": "stdout",
     "output_type": "stream",
     "text": [
      " * sqlite:///./test.db\n",
      "Done.\n"
     ]
    },
    {
     "data": {
      "text/html": [
       "<table>\n",
       "    <thead>\n",
       "        <tr>\n",
       "            <th>empid</th>\n",
       "            <th>empname</th>\n",
       "            <th>salary</th>\n",
       "            <th>deptid</th>\n",
       "            <th>avgdeptsalary</th>\n",
       "        </tr>\n",
       "    </thead>\n",
       "    <tbody>\n",
       "        <tr>\n",
       "            <td>1005</td>\n",
       "            <td>John</td>\n",
       "            <td>55000</td>\n",
       "            <td>1</td>\n",
       "            <td>35000.0</td>\n",
       "        </tr>\n",
       "        <tr>\n",
       "            <td>1001</td>\n",
       "            <td>Mark</td>\n",
       "            <td>60000</td>\n",
       "            <td>2</td>\n",
       "            <td>50000.0</td>\n",
       "        </tr>\n",
       "        <tr>\n",
       "            <td>1007</td>\n",
       "            <td>Donald</td>\n",
       "            <td>35000</td>\n",
       "            <td>3</td>\n",
       "            <td>30000.0</td>\n",
       "        </tr>\n",
       "    </tbody>\n",
       "</table>"
      ],
      "text/plain": [
       "[(1005, 'John', 55000, 1, 35000.0),\n",
       " (1001, 'Mark', 60000, 2, 50000.0),\n",
       " (1007, 'Donald', 35000, 3, 30000.0)]"
      ]
     },
     "execution_count": 10,
     "metadata": {},
     "output_type": "execute_result"
    }
   ],
   "source": [
    "%%sql \n",
    "select empid,empname,salary,deptid,avgdeptsalary from (\n",
    "select empid,empname,salary,deptid,avg(salary) over(partition by deptid) avgdeptsalary\n",
    "from Employee)x where x.salary > x.avgdeptsalary"
   ]
  }
 ],
 "metadata": {
  "kernelspec": {
   "display_name": "Python 3",
   "language": "python",
   "name": "python3"
  },
  "language_info": {
   "codemirror_mode": {
    "name": "ipython",
    "version": 3
   },
   "file_extension": ".py",
   "mimetype": "text/x-python",
   "name": "python",
   "nbconvert_exporter": "python",
   "pygments_lexer": "ipython3",
   "version": "3.8.5"
  }
 },
 "nbformat": 4,
 "nbformat_minor": 4
}
