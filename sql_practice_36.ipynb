{
 "cells": [
  {
   "cell_type": "code",
   "execution_count": 1,
   "metadata": {},
   "outputs": [],
   "source": [
    "%load_ext sql"
   ]
  },
  {
   "cell_type": "code",
   "execution_count": 2,
   "metadata": {},
   "outputs": [
    {
     "data": {
      "text/plain": [
       "'Connected: @./test.db'"
      ]
     },
     "execution_count": 2,
     "metadata": {},
     "output_type": "execute_result"
    }
   ],
   "source": [
    "%sql sqlite:///./test.db"
   ]
  },
  {
   "cell_type": "code",
   "execution_count": 4,
   "metadata": {},
   "outputs": [
    {
     "name": "stdout",
     "output_type": "stream",
     "text": [
      " * sqlite:///./test.db\n",
      "Done.\n",
      "Done.\n"
     ]
    },
    {
     "data": {
      "text/plain": [
       "[]"
      ]
     },
     "execution_count": 4,
     "metadata": {},
     "output_type": "execute_result"
    }
   ],
   "source": [
    "%%sql \n",
    "drop table if exists orderstatus;\n",
    "create table OrderStatus\n",
    "(\n",
    "Quote_Id varchar(5),\n",
    "Order_Id varchar(5),\n",
    "Order_Status Varchar(20)\n",
    ");"
   ]
  },
  {
   "cell_type": "code",
   "execution_count": 5,
   "metadata": {},
   "outputs": [
    {
     "name": "stdout",
     "output_type": "stream",
     "text": [
      " * sqlite:///./test.db\n",
      "1 rows affected.\n",
      "1 rows affected.\n",
      "1 rows affected.\n",
      "1 rows affected.\n",
      "1 rows affected.\n",
      "1 rows affected.\n",
      "1 rows affected.\n",
      "1 rows affected.\n",
      "1 rows affected.\n",
      "1 rows affected.\n"
     ]
    },
    {
     "data": {
      "text/plain": [
       "[]"
      ]
     },
     "execution_count": 5,
     "metadata": {},
     "output_type": "execute_result"
    }
   ],
   "source": [
    "%%sql\n",
    "Insert into OrderStatus Values ('A','A1','Delivered');\n",
    "Insert into OrderStatus Values ('A','A2','Delivered');\n",
    "Insert into OrderStatus Values ('A','A3','Delivered');\n",
    "Insert into OrderStatus Values ('B','B1','Submitted');\n",
    "Insert into OrderStatus Values ('B','B2','Delivered'); \n",
    "Insert into OrderStatus Values ('B','B3','Created');\n",
    "Insert into OrderStatus Values ('C','C1','Submitted'); \n",
    "Insert into OrderStatus Values ('C','C2','Created');\n",
    "Insert into OrderStatus Values ('C','C3','Submitted'); \n",
    "Insert into OrderStatus Values ('D','D1','Created');"
   ]
  },
  {
   "cell_type": "code",
   "execution_count": 7,
   "metadata": {},
   "outputs": [
    {
     "name": "stdout",
     "output_type": "stream",
     "text": [
      " * sqlite:///./test.db\n",
      "Done.\n"
     ]
    },
    {
     "data": {
      "text/html": [
       "<table>\n",
       "    <thead>\n",
       "        <tr>\n",
       "            <th>Quote_Id</th>\n",
       "            <th>Order_Id</th>\n",
       "            <th>Order_Status</th>\n",
       "        </tr>\n",
       "    </thead>\n",
       "    <tbody>\n",
       "        <tr>\n",
       "            <td>A</td>\n",
       "            <td>A1</td>\n",
       "            <td>Delivered</td>\n",
       "        </tr>\n",
       "        <tr>\n",
       "            <td>A</td>\n",
       "            <td>A2</td>\n",
       "            <td>Delivered</td>\n",
       "        </tr>\n",
       "        <tr>\n",
       "            <td>A</td>\n",
       "            <td>A3</td>\n",
       "            <td>Delivered</td>\n",
       "        </tr>\n",
       "        <tr>\n",
       "            <td>B</td>\n",
       "            <td>B1</td>\n",
       "            <td>Submitted</td>\n",
       "        </tr>\n",
       "        <tr>\n",
       "            <td>B</td>\n",
       "            <td>B2</td>\n",
       "            <td>Delivered</td>\n",
       "        </tr>\n",
       "        <tr>\n",
       "            <td>B</td>\n",
       "            <td>B3</td>\n",
       "            <td>Created</td>\n",
       "        </tr>\n",
       "        <tr>\n",
       "            <td>C</td>\n",
       "            <td>C1</td>\n",
       "            <td>Submitted</td>\n",
       "        </tr>\n",
       "        <tr>\n",
       "            <td>C</td>\n",
       "            <td>C2</td>\n",
       "            <td>Created</td>\n",
       "        </tr>\n",
       "        <tr>\n",
       "            <td>C</td>\n",
       "            <td>C3</td>\n",
       "            <td>Submitted</td>\n",
       "        </tr>\n",
       "        <tr>\n",
       "            <td>D</td>\n",
       "            <td>D1</td>\n",
       "            <td>Created</td>\n",
       "        </tr>\n",
       "    </tbody>\n",
       "</table>"
      ],
      "text/plain": [
       "[('A', 'A1', 'Delivered'),\n",
       " ('A', 'A2', 'Delivered'),\n",
       " ('A', 'A3', 'Delivered'),\n",
       " ('B', 'B1', 'Submitted'),\n",
       " ('B', 'B2', 'Delivered'),\n",
       " ('B', 'B3', 'Created'),\n",
       " ('C', 'C1', 'Submitted'),\n",
       " ('C', 'C2', 'Created'),\n",
       " ('C', 'C3', 'Submitted'),\n",
       " ('D', 'D1', 'Created')]"
      ]
     },
     "execution_count": 7,
     "metadata": {},
     "output_type": "execute_result"
    }
   ],
   "source": [
    "%sql select * from orderstatus"
   ]
  },
  {
   "cell_type": "markdown",
   "metadata": {},
   "source": [
    "- When all Orders are in delivered status then Quote status should be ‘Complete’.\n",
    "- When one or more Orders in delivered status then “ In Delivery”.\n",
    "- When One or  more in Submitted status then “Awaiting for Submission” Else “Awaiting for Entry” by default\n",
    "\n",
    "Note :- Order Priority should be Delivered, Submitted and Created\n",
    " If one order is in delivered and other one is in Submitted then Quote_Status should be “In Delivery” "
   ]
  },
  {
   "cell_type": "code",
   "execution_count": 28,
   "metadata": {},
   "outputs": [
    {
     "name": "stdout",
     "output_type": "stream",
     "text": [
      " * sqlite:///./test.db\n",
      "Done.\n"
     ]
    },
    {
     "data": {
      "text/html": [
       "<table>\n",
       "    <thead>\n",
       "        <tr>\n",
       "            <th>quote_id</th>\n",
       "            <th>status</th>\n",
       "        </tr>\n",
       "    </thead>\n",
       "    <tbody>\n",
       "        <tr>\n",
       "            <td>A</td>\n",
       "            <td>Complete</td>\n",
       "        </tr>\n",
       "        <tr>\n",
       "            <td>B</td>\n",
       "            <td>In Delivery</td>\n",
       "        </tr>\n",
       "        <tr>\n",
       "            <td>C</td>\n",
       "            <td>Awaiting for Submission</td>\n",
       "        </tr>\n",
       "        <tr>\n",
       "            <td>D</td>\n",
       "            <td>Awaiting for Entry</td>\n",
       "        </tr>\n",
       "    </tbody>\n",
       "</table>"
      ],
      "text/plain": [
       "[('A', 'Complete'),\n",
       " ('B', 'In Delivery'),\n",
       " ('C', 'Awaiting for Submission'),\n",
       " ('D', 'Awaiting for Entry')]"
      ]
     },
     "execution_count": 28,
     "metadata": {},
     "output_type": "execute_result"
    }
   ],
   "source": [
    "%%sql\n",
    "\n",
    "select quote_id,\n",
    "case when delivered=1 then 'Complete'\n",
    "when indelivery = 1 then 'In Delivery'\n",
    "when awaitingsubmission = 1 then 'Awaiting for Submission'\n",
    "else 'Awaiting for Entry' end status from ( \n",
    "select quote_id,\n",
    "max(delivered) delivered,\n",
    "max(indelivery) indelivery,\n",
    "max(awaitingsubmission) awaitingsubmission\n",
    "from (\n",
    "select o.quote_id,o.order_status,cntorderstatus,\n",
    "max(case when order_status='Delivered' and cntorderstatus=1 then 1 else 0 end) Delivered,\n",
    "max(case when order_status='Delivered' then 1 else 0 end) InDelivery,\n",
    "max(case when order_status='Submitted' then 1 else 0 end) AwaitingSubmission\n",
    "from \n",
    "(select distinct quote_id,order_status from orderstatus) o\n",
    "join \n",
    "(select quote_id,count(distinct(order_status)) cntorderstatus from orderstatus\n",
    "group by quote_id) od\n",
    "on o.quote_id = od.quote_id\n",
    "group by o.quote_id,o.order_status\n",
    ")x\n",
    "group by quote_id)y"
   ]
  }
 ],
 "metadata": {
  "kernelspec": {
   "display_name": "Python 3",
   "language": "python",
   "name": "python3"
  },
  "language_info": {
   "codemirror_mode": {
    "name": "ipython",
    "version": 3
   },
   "file_extension": ".py",
   "mimetype": "text/x-python",
   "name": "python",
   "nbconvert_exporter": "python",
   "pygments_lexer": "ipython3",
   "version": "3.8.5"
  }
 },
 "nbformat": 4,
 "nbformat_minor": 4
}
