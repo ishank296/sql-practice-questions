{
 "cells": [
  {
   "cell_type": "code",
   "execution_count": 8,
   "metadata": {},
   "outputs": [
    {
     "name": "stdout",
     "output_type": "stream",
     "text": [
      "The sql extension is already loaded. To reload it, use:\n",
      "  %reload_ext sql\n"
     ]
    }
   ],
   "source": [
    "%load_ext sql"
   ]
  },
  {
   "cell_type": "code",
   "execution_count": 9,
   "metadata": {},
   "outputs": [
    {
     "data": {
      "text/plain": [
       "'Connected: @./test.db'"
      ]
     },
     "execution_count": 9,
     "metadata": {},
     "output_type": "execute_result"
    }
   ],
   "source": [
    "%sql sqlite:///./test.db"
   ]
  },
  {
   "cell_type": "code",
   "execution_count": 10,
   "metadata": {},
   "outputs": [
    {
     "name": "stdout",
     "output_type": "stream",
     "text": [
      " * sqlite:///./test.db\n",
      "Done.\n",
      "Done.\n"
     ]
    },
    {
     "data": {
      "text/plain": [
       "[]"
      ]
     },
     "execution_count": 10,
     "metadata": {},
     "output_type": "execute_result"
    }
   ],
   "source": [
    "%%sql\n",
    "drop table if exists Employee_2;\n",
    "Create Table Employee_2(\n",
    "EmpName Varchar(30),\n",
    "DeptName Varchar(25),\n",
    "DeptNo Bigint,\n",
    "Salary Bigint);"
   ]
  },
  {
   "cell_type": "code",
   "execution_count": 11,
   "metadata": {},
   "outputs": [
    {
     "name": "stdout",
     "output_type": "stream",
     "text": [
      " * sqlite:///./test.db\n",
      "1 rows affected.\n",
      "1 rows affected.\n",
      "1 rows affected.\n",
      "1 rows affected.\n",
      "1 rows affected.\n",
      "1 rows affected.\n",
      "1 rows affected.\n",
      "1 rows affected.\n",
      "1 rows affected.\n",
      "1 rows affected.\n",
      "1 rows affected.\n",
      "1 rows affected.\n"
     ]
    },
    {
     "data": {
      "text/plain": [
       "[]"
      ]
     },
     "execution_count": 11,
     "metadata": {},
     "output_type": "execute_result"
    }
   ],
   "source": [
    "%%sql\n",
    "Insert into Employee_2 Values('Mark','HR',101,30000);\n",
    "Insert into Employee_2 Values('John','Accountant',101,20000);\n",
    "Insert into Employee_2 Values('Smith','Analyst',101,25000);\n",
    "Insert into Employee_2 Values('Donald','HR',201,40000);\n",
    "Insert into Employee_2 Values('James','Analyst',201,22000);\n",
    "Insert into Employee_2 Values('Maria','Analyst',201,38000);\n",
    "Insert into Employee_2 Values('David','Manager',201,33000);\n",
    "Insert into Employee_2 Values('Martin','Analyst',301,22000);\n",
    "Insert into Employee_2 Values('Robert','Analyst',301,56000);\n",
    "Insert into Employee_2 Values('Michael','Manager',301,34000);\n",
    "Insert into Employee_2 Values('Robert','Accountant',301,37000);\n",
    "Insert into Employee_2 Values('Michael','Analyst',301,28000);"
   ]
  },
  {
   "cell_type": "code",
   "execution_count": 12,
   "metadata": {},
   "outputs": [
    {
     "name": "stdout",
     "output_type": "stream",
     "text": [
      " * sqlite:///./test.db\n",
      "Done.\n"
     ]
    },
    {
     "data": {
      "text/html": [
       "<table>\n",
       "    <thead>\n",
       "        <tr>\n",
       "            <th>EmpName</th>\n",
       "            <th>DeptName</th>\n",
       "            <th>DeptNo</th>\n",
       "            <th>Salary</th>\n",
       "        </tr>\n",
       "    </thead>\n",
       "    <tbody>\n",
       "        <tr>\n",
       "            <td>Mark</td>\n",
       "            <td>HR</td>\n",
       "            <td>101</td>\n",
       "            <td>30000</td>\n",
       "        </tr>\n",
       "        <tr>\n",
       "            <td>John</td>\n",
       "            <td>Accountant</td>\n",
       "            <td>101</td>\n",
       "            <td>20000</td>\n",
       "        </tr>\n",
       "        <tr>\n",
       "            <td>Smith</td>\n",
       "            <td>Analyst</td>\n",
       "            <td>101</td>\n",
       "            <td>25000</td>\n",
       "        </tr>\n",
       "        <tr>\n",
       "            <td>Donald</td>\n",
       "            <td>HR</td>\n",
       "            <td>201</td>\n",
       "            <td>40000</td>\n",
       "        </tr>\n",
       "        <tr>\n",
       "            <td>James</td>\n",
       "            <td>Analyst</td>\n",
       "            <td>201</td>\n",
       "            <td>22000</td>\n",
       "        </tr>\n",
       "    </tbody>\n",
       "</table>"
      ],
      "text/plain": [
       "[('Mark', 'HR', 101, 30000),\n",
       " ('John', 'Accountant', 101, 20000),\n",
       " ('Smith', 'Analyst', 101, 25000),\n",
       " ('Donald', 'HR', 201, 40000),\n",
       " ('James', 'Analyst', 201, 22000)]"
      ]
     },
     "execution_count": 12,
     "metadata": {},
     "output_type": "execute_result"
    }
   ],
   "source": [
    "%sql select * from employee_2 limit 5"
   ]
  },
  {
   "cell_type": "markdown",
   "metadata": {},
   "source": [
    "Query to show records for all employees getting max/min salary per department"
   ]
  },
  {
   "cell_type": "code",
   "execution_count": 13,
   "metadata": {},
   "outputs": [
    {
     "name": "stdout",
     "output_type": "stream",
     "text": [
      " * sqlite:///./test.db\n",
      "Done.\n"
     ]
    },
    {
     "data": {
      "text/html": [
       "<table>\n",
       "    <thead>\n",
       "        <tr>\n",
       "            <th>EmpName</th>\n",
       "            <th>DeptName</th>\n",
       "            <th>DeptNo</th>\n",
       "            <th>Salary</th>\n",
       "        </tr>\n",
       "    </thead>\n",
       "    <tbody>\n",
       "        <tr>\n",
       "            <td>John</td>\n",
       "            <td>Accountant</td>\n",
       "            <td>101</td>\n",
       "            <td>20000</td>\n",
       "        </tr>\n",
       "        <tr>\n",
       "            <td>Mark</td>\n",
       "            <td>HR</td>\n",
       "            <td>101</td>\n",
       "            <td>30000</td>\n",
       "        </tr>\n",
       "        <tr>\n",
       "            <td>James</td>\n",
       "            <td>Analyst</td>\n",
       "            <td>201</td>\n",
       "            <td>22000</td>\n",
       "        </tr>\n",
       "        <tr>\n",
       "            <td>Donald</td>\n",
       "            <td>HR</td>\n",
       "            <td>201</td>\n",
       "            <td>40000</td>\n",
       "        </tr>\n",
       "        <tr>\n",
       "            <td>Martin</td>\n",
       "            <td>Analyst</td>\n",
       "            <td>301</td>\n",
       "            <td>22000</td>\n",
       "        </tr>\n",
       "        <tr>\n",
       "            <td>Robert</td>\n",
       "            <td>Analyst</td>\n",
       "            <td>301</td>\n",
       "            <td>56000</td>\n",
       "        </tr>\n",
       "    </tbody>\n",
       "</table>"
      ],
      "text/plain": [
       "[('John', 'Accountant', 101, 20000),\n",
       " ('Mark', 'HR', 101, 30000),\n",
       " ('James', 'Analyst', 201, 22000),\n",
       " ('Donald', 'HR', 201, 40000),\n",
       " ('Martin', 'Analyst', 301, 22000),\n",
       " ('Robert', 'Analyst', 301, 56000)]"
      ]
     },
     "execution_count": 13,
     "metadata": {},
     "output_type": "execute_result"
    }
   ],
   "source": [
    "%%sql\n",
    "select E1.empname,E1.deptname,E1.deptno,salary from employee_2 E1\n",
    "left join \n",
    "(select deptno,max(salary) maxsal from employee_2 group by deptno) E2 \n",
    "on E1.deptno=E2.deptno and E1.salary=E2.maxsal\n",
    "left join\n",
    "(select deptno,min(salary) minsal from employee_2 group by deptno) E3 \n",
    "on E1.deptno=E3.deptno and E3.minsal=E1.salary\n",
    "where not (E2.deptno is null and E3.deptno is null)\n",
    "order by E1.deptno,E1.Salary"
   ]
  },
  {
   "cell_type": "code",
   "execution_count": 14,
   "metadata": {},
   "outputs": [
    {
     "name": "stdout",
     "output_type": "stream",
     "text": [
      " * sqlite:///./test.db\n",
      "Done.\n"
     ]
    },
    {
     "data": {
      "text/html": [
       "<table>\n",
       "    <thead>\n",
       "        <tr>\n",
       "            <th>empname</th>\n",
       "            <th>deptname</th>\n",
       "            <th>deptno</th>\n",
       "            <th>salary</th>\n",
       "        </tr>\n",
       "    </thead>\n",
       "    <tbody>\n",
       "        <tr>\n",
       "            <td>John</td>\n",
       "            <td>Accountant</td>\n",
       "            <td>101</td>\n",
       "            <td>20000</td>\n",
       "        </tr>\n",
       "        <tr>\n",
       "            <td>Mark</td>\n",
       "            <td>HR</td>\n",
       "            <td>101</td>\n",
       "            <td>30000</td>\n",
       "        </tr>\n",
       "        <tr>\n",
       "            <td>James</td>\n",
       "            <td>Analyst</td>\n",
       "            <td>201</td>\n",
       "            <td>22000</td>\n",
       "        </tr>\n",
       "        <tr>\n",
       "            <td>Donald</td>\n",
       "            <td>HR</td>\n",
       "            <td>201</td>\n",
       "            <td>40000</td>\n",
       "        </tr>\n",
       "        <tr>\n",
       "            <td>Martin</td>\n",
       "            <td>Analyst</td>\n",
       "            <td>301</td>\n",
       "            <td>22000</td>\n",
       "        </tr>\n",
       "        <tr>\n",
       "            <td>Robert</td>\n",
       "            <td>Analyst</td>\n",
       "            <td>301</td>\n",
       "            <td>56000</td>\n",
       "        </tr>\n",
       "    </tbody>\n",
       "</table>"
      ],
      "text/plain": [
       "[('John', 'Accountant', 101, 20000),\n",
       " ('Mark', 'HR', 101, 30000),\n",
       " ('James', 'Analyst', 201, 22000),\n",
       " ('Donald', 'HR', 201, 40000),\n",
       " ('Martin', 'Analyst', 301, 22000),\n",
       " ('Robert', 'Analyst', 301, 56000)]"
      ]
     },
     "execution_count": 14,
     "metadata": {},
     "output_type": "execute_result"
    }
   ],
   "source": [
    "%%sql\n",
    "select empname,deptname,deptno,salary from\n",
    "(\n",
    "select empname,deptname,deptno,salary,\n",
    "rank() over(partition by deptno order by salary asc) minrank,\n",
    "rank() over(partition by deptno order by salary desc) maxrank\n",
    "from employee_2\n",
    ")X where minrank=1 or maxrank=1\n",
    "order by deptno,salary"
   ]
  }
 ],
 "metadata": {
  "kernelspec": {
   "display_name": "Python 3",
   "language": "python",
   "name": "python3"
  },
  "language_info": {
   "codemirror_mode": {
    "name": "ipython",
    "version": 3
   },
   "file_extension": ".py",
   "mimetype": "text/x-python",
   "name": "python",
   "nbconvert_exporter": "python",
   "pygments_lexer": "ipython3",
   "version": "3.8.5"
  }
 },
 "nbformat": 4,
 "nbformat_minor": 4
}
