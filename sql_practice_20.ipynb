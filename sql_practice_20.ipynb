{
 "cells": [
  {
   "cell_type": "code",
   "execution_count": 52,
   "metadata": {},
   "outputs": [
    {
     "name": "stdout",
     "output_type": "stream",
     "text": [
      "The sql extension is already loaded. To reload it, use:\n",
      "  %reload_ext sql\n"
     ]
    }
   ],
   "source": [
    "%load_ext sql"
   ]
  },
  {
   "cell_type": "code",
   "execution_count": 53,
   "metadata": {},
   "outputs": [
    {
     "data": {
      "text/plain": [
       "'Connected: @./test.db'"
      ]
     },
     "execution_count": 53,
     "metadata": {},
     "output_type": "execute_result"
    }
   ],
   "source": [
    "%sql sqlite:///./test.db"
   ]
  },
  {
   "cell_type": "code",
   "execution_count": 54,
   "metadata": {},
   "outputs": [
    {
     "name": "stdout",
     "output_type": "stream",
     "text": [
      " * sqlite:///./test.db\n",
      "Done.\n",
      "Done.\n"
     ]
    },
    {
     "data": {
      "text/plain": [
       "[]"
      ]
     },
     "execution_count": 54,
     "metadata": {},
     "output_type": "execute_result"
    }
   ],
   "source": [
    "%%sql\n",
    "drop table if exists Trade_tbl;\n",
    "Create table Trade_tbl(\n",
    "TRADE_ID varchar(20),\n",
    "Trade_Timestamp time,\n",
    "Trade_Stock varchar(20),\n",
    "Quantity int,\n",
    "Price Float\n",
    ");"
   ]
  },
  {
   "cell_type": "code",
   "execution_count": 55,
   "metadata": {},
   "outputs": [
    {
     "name": "stdout",
     "output_type": "stream",
     "text": [
      " * sqlite:///./test.db\n",
      "6 rows affected.\n"
     ]
    },
    {
     "data": {
      "text/plain": [
       "[]"
      ]
     },
     "execution_count": 55,
     "metadata": {},
     "output_type": "execute_result"
    }
   ],
   "source": [
    "%%sql\n",
    "Insert into Trade_tbl Values('TRADE1','10:01:05','ITJunction4All',100,20)\n",
    ",('TRADE2','10:01:06','ITJunction4All',20,15)\n",
    ",('TRADE3','10:01:08','ITJunction4All',150,30)\n",
    ",('TRADE4','10:01:09','ITJunction4All',300,32)\n",
    ",('TRADE5','10:10:00','ITJunction4All',-100,19)\n",
    ",('TRADE6','10:10:01','ITJunction4All',-300,19);"
   ]
  },
  {
   "cell_type": "code",
   "execution_count": 56,
   "metadata": {},
   "outputs": [
    {
     "name": "stdout",
     "output_type": "stream",
     "text": [
      " * sqlite:///./test.db\n",
      "Done.\n"
     ]
    },
    {
     "data": {
      "text/html": [
       "<table>\n",
       "    <thead>\n",
       "        <tr>\n",
       "            <th>TRADE_ID</th>\n",
       "            <th>Trade_Timestamp</th>\n",
       "            <th>Trade_Stock</th>\n",
       "            <th>Quantity</th>\n",
       "            <th>Price</th>\n",
       "        </tr>\n",
       "    </thead>\n",
       "    <tbody>\n",
       "        <tr>\n",
       "            <td>TRADE1</td>\n",
       "            <td>10:01:05</td>\n",
       "            <td>ITJunction4All</td>\n",
       "            <td>100</td>\n",
       "            <td>20.0</td>\n",
       "        </tr>\n",
       "        <tr>\n",
       "            <td>TRADE2</td>\n",
       "            <td>10:01:06</td>\n",
       "            <td>ITJunction4All</td>\n",
       "            <td>20</td>\n",
       "            <td>15.0</td>\n",
       "        </tr>\n",
       "        <tr>\n",
       "            <td>TRADE3</td>\n",
       "            <td>10:01:08</td>\n",
       "            <td>ITJunction4All</td>\n",
       "            <td>150</td>\n",
       "            <td>30.0</td>\n",
       "        </tr>\n",
       "        <tr>\n",
       "            <td>TRADE4</td>\n",
       "            <td>10:01:09</td>\n",
       "            <td>ITJunction4All</td>\n",
       "            <td>300</td>\n",
       "            <td>32.0</td>\n",
       "        </tr>\n",
       "        <tr>\n",
       "            <td>TRADE5</td>\n",
       "            <td>10:10:00</td>\n",
       "            <td>ITJunction4All</td>\n",
       "            <td>-100</td>\n",
       "            <td>19.0</td>\n",
       "        </tr>\n",
       "        <tr>\n",
       "            <td>TRADE6</td>\n",
       "            <td>10:10:01</td>\n",
       "            <td>ITJunction4All</td>\n",
       "            <td>-300</td>\n",
       "            <td>19.0</td>\n",
       "        </tr>\n",
       "    </tbody>\n",
       "</table>"
      ],
      "text/plain": [
       "[('TRADE1', '10:01:05', 'ITJunction4All', 100, 20.0),\n",
       " ('TRADE2', '10:01:06', 'ITJunction4All', 20, 15.0),\n",
       " ('TRADE3', '10:01:08', 'ITJunction4All', 150, 30.0),\n",
       " ('TRADE4', '10:01:09', 'ITJunction4All', 300, 32.0),\n",
       " ('TRADE5', '10:10:00', 'ITJunction4All', -100, 19.0),\n",
       " ('TRADE6', '10:10:01', 'ITJunction4All', -300, 19.0)]"
      ]
     },
     "execution_count": 56,
     "metadata": {},
     "output_type": "execute_result"
    }
   ],
   "source": [
    "%sql select * from trade_tbl"
   ]
  },
  {
   "cell_type": "markdown",
   "metadata": {},
   "source": [
    "SQL to find all couples of trade for same stock that happened in the range of 10 seconds and having price difference by more than 10 %. Output result should also list the percentage of price difference between the 2 trade"
   ]
  },
  {
   "cell_type": "code",
   "execution_count": 57,
   "metadata": {},
   "outputs": [
    {
     "name": "stdout",
     "output_type": "stream",
     "text": [
      " * sqlite:///./test.db\n",
      "Done.\n"
     ]
    },
    {
     "data": {
      "text/html": [
       "<table>\n",
       "    <thead>\n",
       "        <tr>\n",
       "            <th>TRADE1</th>\n",
       "            <th>TRADE2</th>\n",
       "            <th>price_diff</th>\n",
       "        </tr>\n",
       "    </thead>\n",
       "    <tbody>\n",
       "        <tr>\n",
       "            <td>TRADE1</td>\n",
       "            <td>TRADE2</td>\n",
       "            <td>25.0</td>\n",
       "        </tr>\n",
       "        <tr>\n",
       "            <td>TRADE1</td>\n",
       "            <td>TRADE3</td>\n",
       "            <td>50.0</td>\n",
       "        </tr>\n",
       "        <tr>\n",
       "            <td>TRADE1</td>\n",
       "            <td>TRADE4</td>\n",
       "            <td>60.0</td>\n",
       "        </tr>\n",
       "        <tr>\n",
       "            <td>TRADE2</td>\n",
       "            <td>TRADE3</td>\n",
       "            <td>100.0</td>\n",
       "        </tr>\n",
       "        <tr>\n",
       "            <td>TRADE2</td>\n",
       "            <td>TRADE4</td>\n",
       "            <td>113.33</td>\n",
       "        </tr>\n",
       "    </tbody>\n",
       "</table>"
      ],
      "text/plain": [
       "[('TRADE1', 'TRADE2', 25.0),\n",
       " ('TRADE1', 'TRADE3', 50.0),\n",
       " ('TRADE1', 'TRADE4', 60.0),\n",
       " ('TRADE2', 'TRADE3', 100.0),\n",
       " ('TRADE2', 'TRADE4', 113.33)]"
      ]
     },
     "execution_count": 57,
     "metadata": {},
     "output_type": "execute_result"
    }
   ],
   "source": [
    "%%sql\n",
    "select TRADE1,TRADE2,round(abs(price2-price1)/price1 * 100,2) price_diff from (\n",
    "(select TRADE_ID TRADE1,strftime('%s',trade_timestamp) trade_time1,price price1 from trade_tbl) t1\n",
    "inner join\n",
    "(select TRADE_ID TRADE2,strftime('%s',trade_timestamp) trade_time2,price price2 from trade_tbl) t2\n",
    "on t1.trade1<t2.trade2  \n",
    ")x\n",
    "where abs(((price2-price1)/price1) * 100) >= 10\n",
    "and trade_time2-trade_time1<=10"
   ]
  }
 ],
 "metadata": {
  "kernelspec": {
   "display_name": "Python 3",
   "language": "python",
   "name": "python3"
  },
  "language_info": {
   "codemirror_mode": {
    "name": "ipython",
    "version": 3
   },
   "file_extension": ".py",
   "mimetype": "text/x-python",
   "name": "python",
   "nbconvert_exporter": "python",
   "pygments_lexer": "ipython3",
   "version": "3.8.5"
  }
 },
 "nbformat": 4,
 "nbformat_minor": 4
}
