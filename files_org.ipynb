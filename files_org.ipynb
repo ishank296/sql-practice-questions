{
 "cells": [
  {
   "cell_type": "code",
   "execution_count": 8,
   "metadata": {},
   "outputs": [],
   "source": [
    "import os\n",
    "import re"
   ]
  },
  {
   "cell_type": "code",
   "execution_count": 11,
   "metadata": {},
   "outputs": [
    {
     "name": "stdout",
     "output_type": "stream",
     "text": [
      "sql_practice_0sql_practice_3\n",
      "sql_practice_0sql_practice_8\n",
      "sql_practice_0sql_practice_4\n",
      "sql_practice_0sql_practice_6\n",
      "sql_practice_0sql_practice_5\n",
      "sql_practice_0sql_practice_9\n",
      "sql_practice_0sql_practice_1\n",
      "sql_practice_0sql_practice_2\n"
     ]
    }
   ],
   "source": [
    "py_notebooks = [file for file in os.listdir() if file.endswith(\".ipynb\")]\n",
    "for file in py_notebooks:\n",
    "    if re.match(r\"sql_practice_[1-9]\\.ipynb\",file):\n",
    "        newfile=\"sql_practice_0\"+file[:-6]\n",
    "        print(newfile[:-6])"
   ]
  }
 ],
 "metadata": {
  "kernelspec": {
   "display_name": "Python 3",
   "language": "python",
   "name": "python3"
  },
  "language_info": {
   "codemirror_mode": {
    "name": "ipython",
    "version": 3
   },
   "file_extension": ".py",
   "mimetype": "text/x-python",
   "name": "python",
   "nbconvert_exporter": "python",
   "pygments_lexer": "ipython3",
   "version": "3.8.5"
  }
 },
 "nbformat": 4,
 "nbformat_minor": 4
}
