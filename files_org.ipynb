{
 "cells": [
  {
   "cell_type": "code",
   "execution_count": 8,
   "metadata": {},
   "outputs": [],
   "source": [
    "import os\n",
    "import re"
   ]
  },
  {
   "cell_type": "code",
   "execution_count": 16,
   "metadata": {},
   "outputs": [
    {
     "name": "stdout",
     "output_type": "stream",
     "text": [
      "sql_practice_03.ipynb\n",
      "sql_practice_08.ipynb\n",
      "sql_practice_04.ipynb\n",
      "sql_practice_06.ipynb\n",
      "sql_practice_05.ipynb\n",
      "sql_practice_09.ipynb\n",
      "sql_practice_01.ipynb\n",
      "sql_practice_02.ipynb\n"
     ]
    }
   ],
   "source": [
    "py_notebooks = [file for file in os.listdir() if file.endswith(\".ipynb\")]\n",
    "for file in py_notebooks:\n",
    "    if re.match(r\"sql_practice_[1-9]\\.ipynb\",file):\n",
    "        newfile=\"sql_practice_0\"+file[-7:]\n",
    "        print(newfile)\n",
    "        os.rename(file,newfile)"
   ]
  }
 ],
 "metadata": {
  "kernelspec": {
   "display_name": "Python 3",
   "language": "python",
   "name": "python3"
  },
  "language_info": {
   "codemirror_mode": {
    "name": "ipython",
    "version": 3
   },
   "file_extension": ".py",
   "mimetype": "text/x-python",
   "name": "python",
   "nbconvert_exporter": "python",
   "pygments_lexer": "ipython3",
   "version": "3.8.5"
  }
 },
 "nbformat": 4,
 "nbformat_minor": 4
}
