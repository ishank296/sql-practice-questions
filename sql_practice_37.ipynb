{
 "cells": [
  {
   "cell_type": "code",
   "execution_count": 1,
   "metadata": {},
   "outputs": [],
   "source": [
    "%load_ext sql"
   ]
  },
  {
   "cell_type": "code",
   "execution_count": 2,
   "metadata": {},
   "outputs": [
    {
     "data": {
      "text/plain": [
       "'Connected: @./test.db'"
      ]
     },
     "execution_count": 2,
     "metadata": {},
     "output_type": "execute_result"
    }
   ],
   "source": [
    "%sql sqlite:///./test.db"
   ]
  },
  {
   "cell_type": "code",
   "execution_count": 7,
   "metadata": {},
   "outputs": [
    {
     "name": "stdout",
     "output_type": "stream",
     "text": [
      " * sqlite:///./test.db\n",
      "Done.\n"
     ]
    },
    {
     "data": {
      "text/plain": [
       "[]"
      ]
     },
     "execution_count": 7,
     "metadata": {},
     "output_type": "execute_result"
    }
   ],
   "source": [
    "%%sql Create Table SalesInfo(\n",
    "Continents varchar(30),\n",
    "Country varchar(30),\n",
    "Sales Bigint\n",
    ")"
   ]
  },
  {
   "cell_type": "code",
   "execution_count": 8,
   "metadata": {},
   "outputs": [
    {
     "name": "stdout",
     "output_type": "stream",
     "text": [
      " * sqlite:///./test.db\n",
      "15 rows affected.\n"
     ]
    },
    {
     "data": {
      "text/plain": [
       "[]"
      ]
     },
     "execution_count": 8,
     "metadata": {},
     "output_type": "execute_result"
    }
   ],
   "source": [
    "%%sql\n",
    "\n",
    "Insert into SalesInfo Values('Asia','India',50000)\n",
    ",('Asia','India',70000)\n",
    ",('Asia','India',60000)\n",
    ",('Asia','Japan',10000)\n",
    ",('Asia','Japan',20000)\n",
    ",('Asia','Japan',40000)\n",
    ",('Asia','Thailand',20000)\n",
    ",('Asia','Thailand',30000)\n",
    ",('Asia','Thailand',40000)\n",
    ",('Europe','Denmark',40000)\n",
    ",('Europe','Denmark',60000)\n",
    ",('Europe','Denmark',10000)\n",
    ",('Europe','France',60000)\n",
    ",('Europe','France',30000)\n",
    ",('Europe','France',40000)"
   ]
  },
  {
   "cell_type": "code",
   "execution_count": 10,
   "metadata": {},
   "outputs": [
    {
     "name": "stdout",
     "output_type": "stream",
     "text": [
      " * sqlite:///./test.db\n",
      "Done.\n"
     ]
    },
    {
     "data": {
      "text/html": [
       "<table>\n",
       "    <thead>\n",
       "        <tr>\n",
       "            <th>Continents</th>\n",
       "            <th>Country</th>\n",
       "            <th>Sales</th>\n",
       "        </tr>\n",
       "    </thead>\n",
       "    <tbody>\n",
       "        <tr>\n",
       "            <td>Asia</td>\n",
       "            <td>India</td>\n",
       "            <td>50000</td>\n",
       "        </tr>\n",
       "        <tr>\n",
       "            <td>Asia</td>\n",
       "            <td>India</td>\n",
       "            <td>70000</td>\n",
       "        </tr>\n",
       "        <tr>\n",
       "            <td>Asia</td>\n",
       "            <td>India</td>\n",
       "            <td>60000</td>\n",
       "        </tr>\n",
       "        <tr>\n",
       "            <td>Asia</td>\n",
       "            <td>Japan</td>\n",
       "            <td>10000</td>\n",
       "        </tr>\n",
       "        <tr>\n",
       "            <td>Asia</td>\n",
       "            <td>Japan</td>\n",
       "            <td>20000</td>\n",
       "        </tr>\n",
       "    </tbody>\n",
       "</table>"
      ],
      "text/plain": [
       "[('Asia', 'India', 50000),\n",
       " ('Asia', 'India', 70000),\n",
       " ('Asia', 'India', 60000),\n",
       " ('Asia', 'Japan', 10000),\n",
       " ('Asia', 'Japan', 20000)]"
      ]
     },
     "execution_count": 10,
     "metadata": {},
     "output_type": "execute_result"
    }
   ],
   "source": [
    "%sql select * from salesinfo limit 5"
   ]
  },
  {
   "cell_type": "markdown",
   "metadata": {},
   "source": [
    "SQL Query to get aggregate sum of sales countrywise and display only\n",
    "those which are maximum in each continent"
   ]
  },
  {
   "cell_type": "code",
   "execution_count": 18,
   "metadata": {},
   "outputs": [
    {
     "name": "stdout",
     "output_type": "stream",
     "text": [
      " * sqlite:///./test.db\n",
      "Done.\n"
     ]
    },
    {
     "data": {
      "text/html": [
       "<table>\n",
       "    <thead>\n",
       "        <tr>\n",
       "            <th>sales</th>\n",
       "            <th>country</th>\n",
       "            <th>continents</th>\n",
       "        </tr>\n",
       "    </thead>\n",
       "    <tbody>\n",
       "        <tr>\n",
       "            <td>130000</td>\n",
       "            <td>France</td>\n",
       "            <td>Europe</td>\n",
       "        </tr>\n",
       "        <tr>\n",
       "            <td>180000</td>\n",
       "            <td>India</td>\n",
       "            <td>Asia</td>\n",
       "        </tr>\n",
       "    </tbody>\n",
       "</table>"
      ],
      "text/plain": [
       "[(130000, 'France', 'Europe'), (180000, 'India', 'Asia')]"
      ]
     },
     "execution_count": 18,
     "metadata": {},
     "output_type": "execute_result"
    }
   ],
   "source": [
    "%%sql\n",
    "select y.* from\n",
    "(select sum(sales) sales,country,continents from salesinfo\n",
    "group by country,continents)y\n",
    "join\n",
    "(select continents,max(sales) sales from (\n",
    "select sum(sales) sales,country,continents from salesinfo\n",
    "group by country,continents)x\n",
    "group by continents)z\n",
    "on y.sales=z.sales and y.continents=z.continents"
   ]
  }
 ],
 "metadata": {
  "kernelspec": {
   "display_name": "Python 3",
   "language": "python",
   "name": "python3"
  },
  "language_info": {
   "codemirror_mode": {
    "name": "ipython",
    "version": 3
   },
   "file_extension": ".py",
   "mimetype": "text/x-python",
   "name": "python",
   "nbconvert_exporter": "python",
   "pygments_lexer": "ipython3",
   "version": "3.8.5"
  }
 },
 "nbformat": 4,
 "nbformat_minor": 4
}
