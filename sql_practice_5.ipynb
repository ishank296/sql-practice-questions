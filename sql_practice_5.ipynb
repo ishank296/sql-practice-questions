{
 "cells": [
  {
   "cell_type": "code",
   "execution_count": 2,
   "metadata": {},
   "outputs": [],
   "source": [
    "%load_ext sql"
   ]
  },
  {
   "cell_type": "code",
   "execution_count": 4,
   "metadata": {},
   "outputs": [
    {
     "data": {
      "text/plain": [
       "'Connected: @./test.db'"
      ]
     },
     "execution_count": 4,
     "metadata": {},
     "output_type": "execute_result"
    }
   ],
   "source": [
    "%sql sqlite:///./test.db"
   ]
  },
  {
   "cell_type": "code",
   "execution_count": 3,
   "metadata": {},
   "outputs": [
    {
     "name": "stdout",
     "output_type": "stream",
     "text": [
      " * sqlite:///./test.db\n",
      "Done.\n"
     ]
    },
    {
     "data": {
      "text/plain": [
       "[]"
      ]
     },
     "execution_count": 3,
     "metadata": {},
     "output_type": "execute_result"
    }
   ],
   "source": [
    "%%sql\n",
    "CREATE TABLE [Order_Tbl](\n",
    " [ORDER_DAY] date,\n",
    " [ORDER_ID] varchar(10) ,\n",
    " [PRODUCT_ID] varchar(10) ,\n",
    " [QUANTITY] int ,\n",
    " [PRICE] int \n",
    ") "
   ]
  },
  {
   "cell_type": "code",
   "execution_count": 4,
   "metadata": {},
   "outputs": [
    {
     "name": "stdout",
     "output_type": "stream",
     "text": [
      " * sqlite:///./test.db\n",
      "1 rows affected.\n",
      "1 rows affected.\n",
      "1 rows affected.\n",
      "1 rows affected.\n",
      "1 rows affected.\n",
      "1 rows affected.\n",
      "1 rows affected.\n",
      "1 rows affected.\n",
      "1 rows affected.\n",
      "1 rows affected.\n"
     ]
    },
    {
     "data": {
      "text/plain": [
       "[]"
      ]
     },
     "execution_count": 4,
     "metadata": {},
     "output_type": "execute_result"
    }
   ],
   "source": [
    "%%sql\n",
    "INSERT INTO [Order_Tbl]  VALUES ('2015-05-01','ODR1', 'PROD1', 5, 5);\n",
    "INSERT INTO [Order_Tbl]  VALUES ('2015-05-01','ODR2', 'PROD2', 2, 10);\n",
    "INSERT INTO [Order_Tbl]  VALUES ('2015-05-01','ODR3', 'PROD3', 10, 25);\n",
    "INSERT INTO [Order_Tbl]  VALUES ('2015-05-01','ODR4', 'PROD1', 20, 5);\n",
    "INSERT INTO [Order_Tbl]  VALUES ('2015-05-02','ODR5', 'PROD3', 5, 25);\n",
    "INSERT INTO [Order_Tbl]  VALUES ('2015-05-02','ODR6', 'PROD4', 6, 20);\n",
    "INSERT INTO [Order_Tbl]  VALUES ('2015-05-02','ODR7', 'PROD1', 2, 5);\n",
    "INSERT INTO [Order_Tbl]  VALUES ('2015-05-02','ODR8', 'PROD5', 1, 50);\n",
    "INSERT INTO [Order_Tbl]  VALUES ('2015-05-02','ODR9', 'PROD6', 2, 50);\n",
    "INSERT INTO [Order_Tbl]  VALUES ('2015-05-02','ODR10','PROD2', 4, 10);"
   ]
  },
  {
   "cell_type": "code",
   "execution_count": 5,
   "metadata": {},
   "outputs": [
    {
     "name": "stdout",
     "output_type": "stream",
     "text": [
      " * sqlite:///./test.db\n",
      "Done.\n"
     ]
    },
    {
     "data": {
      "text/html": [
       "<table>\n",
       "    <thead>\n",
       "        <tr>\n",
       "            <th>ORDER_DAY</th>\n",
       "            <th>ORDER_ID</th>\n",
       "            <th>PRODUCT_ID</th>\n",
       "            <th>QUANTITY</th>\n",
       "            <th>PRICE</th>\n",
       "        </tr>\n",
       "    </thead>\n",
       "    <tbody>\n",
       "        <tr>\n",
       "            <td>2015-05-01</td>\n",
       "            <td>ODR1</td>\n",
       "            <td>PROD1</td>\n",
       "            <td>5</td>\n",
       "            <td>5</td>\n",
       "        </tr>\n",
       "        <tr>\n",
       "            <td>2015-05-01</td>\n",
       "            <td>ODR2</td>\n",
       "            <td>PROD2</td>\n",
       "            <td>2</td>\n",
       "            <td>10</td>\n",
       "        </tr>\n",
       "        <tr>\n",
       "            <td>2015-05-01</td>\n",
       "            <td>ODR3</td>\n",
       "            <td>PROD3</td>\n",
       "            <td>10</td>\n",
       "            <td>25</td>\n",
       "        </tr>\n",
       "        <tr>\n",
       "            <td>2015-05-01</td>\n",
       "            <td>ODR4</td>\n",
       "            <td>PROD1</td>\n",
       "            <td>20</td>\n",
       "            <td>5</td>\n",
       "        </tr>\n",
       "        <tr>\n",
       "            <td>2015-05-02</td>\n",
       "            <td>ODR5</td>\n",
       "            <td>PROD3</td>\n",
       "            <td>5</td>\n",
       "            <td>25</td>\n",
       "        </tr>\n",
       "        <tr>\n",
       "            <td>2015-05-02</td>\n",
       "            <td>ODR6</td>\n",
       "            <td>PROD4</td>\n",
       "            <td>6</td>\n",
       "            <td>20</td>\n",
       "        </tr>\n",
       "        <tr>\n",
       "            <td>2015-05-02</td>\n",
       "            <td>ODR7</td>\n",
       "            <td>PROD1</td>\n",
       "            <td>2</td>\n",
       "            <td>5</td>\n",
       "        </tr>\n",
       "        <tr>\n",
       "            <td>2015-05-02</td>\n",
       "            <td>ODR8</td>\n",
       "            <td>PROD5</td>\n",
       "            <td>1</td>\n",
       "            <td>50</td>\n",
       "        </tr>\n",
       "        <tr>\n",
       "            <td>2015-05-02</td>\n",
       "            <td>ODR9</td>\n",
       "            <td>PROD6</td>\n",
       "            <td>2</td>\n",
       "            <td>50</td>\n",
       "        </tr>\n",
       "        <tr>\n",
       "            <td>2015-05-02</td>\n",
       "            <td>ODR10</td>\n",
       "            <td>PROD2</td>\n",
       "            <td>4</td>\n",
       "            <td>10</td>\n",
       "        </tr>\n",
       "    </tbody>\n",
       "</table>"
      ],
      "text/plain": [
       "[('2015-05-01', 'ODR1', 'PROD1', 5, 5),\n",
       " ('2015-05-01', 'ODR2', 'PROD2', 2, 10),\n",
       " ('2015-05-01', 'ODR3', 'PROD3', 10, 25),\n",
       " ('2015-05-01', 'ODR4', 'PROD1', 20, 5),\n",
       " ('2015-05-02', 'ODR5', 'PROD3', 5, 25),\n",
       " ('2015-05-02', 'ODR6', 'PROD4', 6, 20),\n",
       " ('2015-05-02', 'ODR7', 'PROD1', 2, 5),\n",
       " ('2015-05-02', 'ODR8', 'PROD5', 1, 50),\n",
       " ('2015-05-02', 'ODR9', 'PROD6', 2, 50),\n",
       " ('2015-05-02', 'ODR10', 'PROD2', 4, 10)]"
      ]
     },
     "execution_count": 5,
     "metadata": {},
     "output_type": "execute_result"
    }
   ],
   "source": [
    "%sql select * from order_tbl"
   ]
  },
  {
   "cell_type": "markdown",
   "metadata": {},
   "source": [
    "1. SQL to Display all the product that got sold on both the days and number of times the prodct is sold\n",
    "2. SQL to get products that was ordered on 2-May-2015 but not on 1-May-2015"
   ]
  },
  {
   "cell_type": "code",
   "execution_count": 15,
   "metadata": {},
   "outputs": [
    {
     "name": "stdout",
     "output_type": "stream",
     "text": [
      " * sqlite:///./test.db\n",
      "Done.\n"
     ]
    },
    {
     "data": {
      "text/html": [
       "<table>\n",
       "    <thead>\n",
       "        <tr>\n",
       "            <th>product_id</th>\n",
       "            <th>sum(sold_cnt)</th>\n",
       "        </tr>\n",
       "    </thead>\n",
       "    <tbody>\n",
       "        <tr>\n",
       "            <td>PROD1</td>\n",
       "            <td>3</td>\n",
       "        </tr>\n",
       "        <tr>\n",
       "            <td>PROD2</td>\n",
       "            <td>2</td>\n",
       "        </tr>\n",
       "        <tr>\n",
       "            <td>PROD3</td>\n",
       "            <td>2</td>\n",
       "        </tr>\n",
       "    </tbody>\n",
       "</table>"
      ],
      "text/plain": [
       "[('PROD1', 3), ('PROD2', 2), ('PROD3', 2)]"
      ]
     },
     "execution_count": 15,
     "metadata": {},
     "output_type": "execute_result"
    }
   ],
   "source": [
    "%%sql\n",
    "select product_id,sum(sold_cnt) from (\n",
    "select count(*) sold_cnt, product_id,order_day from order_tbl group by product_id,order_day)x\n",
    "group by product_id\n",
    "having count(*) > 1"
   ]
  },
  {
   "cell_type": "code",
   "execution_count": 7,
   "metadata": {},
   "outputs": [
    {
     "name": "stdout",
     "output_type": "stream",
     "text": [
      " * sqlite:///./test.db\n",
      "Done.\n"
     ]
    },
    {
     "data": {
      "text/html": [
       "<table>\n",
       "    <thead>\n",
       "        <tr>\n",
       "            <th>PRODUCT_ID</th>\n",
       "            <th>cnt</th>\n",
       "            <th>cnt_order_day</th>\n",
       "        </tr>\n",
       "    </thead>\n",
       "    <tbody>\n",
       "        <tr>\n",
       "            <td>PROD1</td>\n",
       "            <td>3</td>\n",
       "            <td>2</td>\n",
       "        </tr>\n",
       "        <tr>\n",
       "            <td>PROD2</td>\n",
       "            <td>2</td>\n",
       "            <td>2</td>\n",
       "        </tr>\n",
       "        <tr>\n",
       "            <td>PROD3</td>\n",
       "            <td>2</td>\n",
       "            <td>2</td>\n",
       "        </tr>\n",
       "    </tbody>\n",
       "</table>"
      ],
      "text/plain": [
       "[('PROD1', 3, 2), ('PROD2', 2, 2), ('PROD3', 2, 2)]"
      ]
     },
     "execution_count": 7,
     "metadata": {},
     "output_type": "execute_result"
    }
   ],
   "source": [
    "%%sql\n",
    "select product_id,count(product_id) cnt,count(distinct order_day) cnt_order_day from order_tbl\n",
    "group by product_id\n",
    "having count(distinct order_day) > 1"
   ]
  },
  {
   "cell_type": "code",
   "execution_count": 14,
   "metadata": {},
   "outputs": [
    {
     "name": "stdout",
     "output_type": "stream",
     "text": [
      " * sqlite:///./test.db\n",
      "Done.\n"
     ]
    },
    {
     "data": {
      "text/html": [
       "<table>\n",
       "    <thead>\n",
       "        <tr>\n",
       "            <th>ORDER_DAY</th>\n",
       "            <th>ORDER_ID</th>\n",
       "            <th>PRODUCT_ID</th>\n",
       "            <th>QUANTITY</th>\n",
       "            <th>PRICE</th>\n",
       "        </tr>\n",
       "    </thead>\n",
       "    <tbody>\n",
       "        <tr>\n",
       "            <td>2015-05-02</td>\n",
       "            <td>ODR6</td>\n",
       "            <td>PROD4</td>\n",
       "            <td>6</td>\n",
       "            <td>20</td>\n",
       "        </tr>\n",
       "        <tr>\n",
       "            <td>2015-05-02</td>\n",
       "            <td>ODR8</td>\n",
       "            <td>PROD5</td>\n",
       "            <td>1</td>\n",
       "            <td>50</td>\n",
       "        </tr>\n",
       "        <tr>\n",
       "            <td>2015-05-02</td>\n",
       "            <td>ODR9</td>\n",
       "            <td>PROD6</td>\n",
       "            <td>2</td>\n",
       "            <td>50</td>\n",
       "        </tr>\n",
       "    </tbody>\n",
       "</table>"
      ],
      "text/plain": [
       "[('2015-05-02', 'ODR6', 'PROD4', 6, 20),\n",
       " ('2015-05-02', 'ODR8', 'PROD5', 1, 50),\n",
       " ('2015-05-02', 'ODR9', 'PROD6', 2, 50)]"
      ]
     },
     "execution_count": 14,
     "metadata": {},
     "output_type": "execute_result"
    }
   ],
   "source": [
    "%%sql \n",
    "select * from order_tbl where \n",
    "product_id not in (select distinct product_id from order_tbl where order_day='2015-05-01')"
   ]
  }
 ],
 "metadata": {
  "kernelspec": {
   "display_name": "Python 3",
   "language": "python",
   "name": "python3"
  },
  "language_info": {
   "codemirror_mode": {
    "name": "ipython",
    "version": 3
   },
   "file_extension": ".py",
   "mimetype": "text/x-python",
   "name": "python",
   "nbconvert_exporter": "python",
   "pygments_lexer": "ipython3",
   "version": "3.8.5"
  }
 },
 "nbformat": 4,
 "nbformat_minor": 4
}
