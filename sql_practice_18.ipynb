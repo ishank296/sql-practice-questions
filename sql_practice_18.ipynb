{
 "cells": [
  {
   "cell_type": "code",
   "execution_count": 1,
   "metadata": {},
   "outputs": [],
   "source": [
    "%load_ext sql"
   ]
  },
  {
   "cell_type": "code",
   "execution_count": 2,
   "metadata": {},
   "outputs": [
    {
     "data": {
      "text/plain": [
       "'Connected: @./test.db'"
      ]
     },
     "execution_count": 2,
     "metadata": {},
     "output_type": "execute_result"
    }
   ],
   "source": [
    "%sql sqlite:///./test.db"
   ]
  },
  {
   "cell_type": "code",
   "execution_count": 3,
   "metadata": {},
   "outputs": [
    {
     "name": "stdout",
     "output_type": "stream",
     "text": [
      " * sqlite:///./test.db\n",
      "Done.\n",
      "Done.\n"
     ]
    },
    {
     "data": {
      "text/plain": [
       "[]"
      ]
     },
     "execution_count": 3,
     "metadata": {},
     "output_type": "execute_result"
    }
   ],
   "source": [
    "%%sql\n",
    "Drop table if exists account_table;\n",
    "Create Table Account_Table(\n",
    "TranDate DateTime,\n",
    "TranID Varchar(20),\n",
    "TranType Varchar(10),\n",
    "Amount Float);"
   ]
  },
  {
   "cell_type": "code",
   "execution_count": 4,
   "metadata": {},
   "outputs": [
    {
     "name": "stdout",
     "output_type": "stream",
     "text": [
      " * sqlite:///./test.db\n",
      "6 rows affected.\n"
     ]
    },
    {
     "data": {
      "text/plain": [
       "[]"
      ]
     },
     "execution_count": 4,
     "metadata": {},
     "output_type": "execute_result"
    }
   ],
   "source": [
    "%%sql\n",
    "INSERT into [Account_Table] ([TranDate], [TranID], [TranType], [Amount]) VALUES \n",
    "('2020-05-12T05:29:44.120', 'A10001','Credit', 50000)\n",
    ", ('2020-05-13T10:30:20.100', 'B10001','Debit', 10000)\n",
    ", ('2020-05-13T11:27:50.130', 'B10002','Credit', 20000)\n",
    ", ('2020-05-14T08:35:30.123', 'C10001','Debit', 5000)\n",
    ", ('2020-05-14T09:43:51.100', 'C10002','Debit', 5000)\n",
    ", ('2020-05-15T05:51:11.117', 'D10001','Credit', 30000)"
   ]
  },
  {
   "cell_type": "code",
   "execution_count": 5,
   "metadata": {},
   "outputs": [
    {
     "name": "stdout",
     "output_type": "stream",
     "text": [
      " * sqlite:///./test.db\n",
      "Done.\n"
     ]
    },
    {
     "data": {
      "text/html": [
       "<table>\n",
       "    <thead>\n",
       "        <tr>\n",
       "            <th>TranDate</th>\n",
       "            <th>TranID</th>\n",
       "            <th>TranType</th>\n",
       "            <th>Amount</th>\n",
       "        </tr>\n",
       "    </thead>\n",
       "    <tbody>\n",
       "        <tr>\n",
       "            <td>2020-05-12T05:29:44.120</td>\n",
       "            <td>A10001</td>\n",
       "            <td>Credit</td>\n",
       "            <td>50000.0</td>\n",
       "        </tr>\n",
       "        <tr>\n",
       "            <td>2020-05-13T10:30:20.100</td>\n",
       "            <td>B10001</td>\n",
       "            <td>Debit</td>\n",
       "            <td>10000.0</td>\n",
       "        </tr>\n",
       "        <tr>\n",
       "            <td>2020-05-13T11:27:50.130</td>\n",
       "            <td>B10002</td>\n",
       "            <td>Credit</td>\n",
       "            <td>20000.0</td>\n",
       "        </tr>\n",
       "        <tr>\n",
       "            <td>2020-05-14T08:35:30.123</td>\n",
       "            <td>C10001</td>\n",
       "            <td>Debit</td>\n",
       "            <td>5000.0</td>\n",
       "        </tr>\n",
       "        <tr>\n",
       "            <td>2020-05-14T09:43:51.100</td>\n",
       "            <td>C10002</td>\n",
       "            <td>Debit</td>\n",
       "            <td>5000.0</td>\n",
       "        </tr>\n",
       "        <tr>\n",
       "            <td>2020-05-15T05:51:11.117</td>\n",
       "            <td>D10001</td>\n",
       "            <td>Credit</td>\n",
       "            <td>30000.0</td>\n",
       "        </tr>\n",
       "    </tbody>\n",
       "</table>"
      ],
      "text/plain": [
       "[('2020-05-12T05:29:44.120', 'A10001', 'Credit', 50000.0),\n",
       " ('2020-05-13T10:30:20.100', 'B10001', 'Debit', 10000.0),\n",
       " ('2020-05-13T11:27:50.130', 'B10002', 'Credit', 20000.0),\n",
       " ('2020-05-14T08:35:30.123', 'C10001', 'Debit', 5000.0),\n",
       " ('2020-05-14T09:43:51.100', 'C10002', 'Debit', 5000.0),\n",
       " ('2020-05-15T05:51:11.117', 'D10001', 'Credit', 30000.0)]"
      ]
     },
     "execution_count": 5,
     "metadata": {},
     "output_type": "execute_result"
    }
   ],
   "source": [
    "%sql select * from account_Table"
   ]
  },
  {
   "cell_type": "markdown",
   "metadata": {},
   "source": [
    "SQL to derive the Net Balance column based on Credit/Debit of the Amount"
   ]
  },
  {
   "cell_type": "code",
   "execution_count": 11,
   "metadata": {},
   "outputs": [
    {
     "name": "stdout",
     "output_type": "stream",
     "text": [
      " * sqlite:///./test.db\n",
      "Done.\n"
     ]
    },
    {
     "data": {
      "text/html": [
       "<table>\n",
       "    <thead>\n",
       "        <tr>\n",
       "            <th>TranDate</th>\n",
       "            <th>TranID</th>\n",
       "            <th>TranType</th>\n",
       "            <th>Amount</th>\n",
       "            <th>net_balance</th>\n",
       "        </tr>\n",
       "    </thead>\n",
       "    <tbody>\n",
       "        <tr>\n",
       "            <td>2020-05-12T05:29:44.120</td>\n",
       "            <td>A10001</td>\n",
       "            <td>Credit</td>\n",
       "            <td>50000.0</td>\n",
       "            <td>50000.0</td>\n",
       "        </tr>\n",
       "        <tr>\n",
       "            <td>2020-05-13T10:30:20.100</td>\n",
       "            <td>B10001</td>\n",
       "            <td>Debit</td>\n",
       "            <td>10000.0</td>\n",
       "            <td>40000.0</td>\n",
       "        </tr>\n",
       "        <tr>\n",
       "            <td>2020-05-13T11:27:50.130</td>\n",
       "            <td>B10002</td>\n",
       "            <td>Credit</td>\n",
       "            <td>20000.0</td>\n",
       "            <td>60000.0</td>\n",
       "        </tr>\n",
       "        <tr>\n",
       "            <td>2020-05-14T08:35:30.123</td>\n",
       "            <td>C10001</td>\n",
       "            <td>Debit</td>\n",
       "            <td>5000.0</td>\n",
       "            <td>55000.0</td>\n",
       "        </tr>\n",
       "        <tr>\n",
       "            <td>2020-05-14T09:43:51.100</td>\n",
       "            <td>C10002</td>\n",
       "            <td>Debit</td>\n",
       "            <td>5000.0</td>\n",
       "            <td>50000.0</td>\n",
       "        </tr>\n",
       "        <tr>\n",
       "            <td>2020-05-15T05:51:11.117</td>\n",
       "            <td>D10001</td>\n",
       "            <td>Credit</td>\n",
       "            <td>30000.0</td>\n",
       "            <td>80000.0</td>\n",
       "        </tr>\n",
       "    </tbody>\n",
       "</table>"
      ],
      "text/plain": [
       "[('2020-05-12T05:29:44.120', 'A10001', 'Credit', 50000.0, 50000.0),\n",
       " ('2020-05-13T10:30:20.100', 'B10001', 'Debit', 10000.0, 40000.0),\n",
       " ('2020-05-13T11:27:50.130', 'B10002', 'Credit', 20000.0, 60000.0),\n",
       " ('2020-05-14T08:35:30.123', 'C10001', 'Debit', 5000.0, 55000.0),\n",
       " ('2020-05-14T09:43:51.100', 'C10002', 'Debit', 5000.0, 50000.0),\n",
       " ('2020-05-15T05:51:11.117', 'D10001', 'Credit', 30000.0, 80000.0)]"
      ]
     },
     "execution_count": 11,
     "metadata": {},
     "output_type": "execute_result"
    }
   ],
   "source": [
    "%%sql \n",
    "select *,sum(case when trantype='Credit' then amount\n",
    "            when trantype='Debit' then -amount end) over(order by trandate) net_balance from account_table"
   ]
  }
 ],
 "metadata": {
  "kernelspec": {
   "display_name": "Python 3",
   "language": "python",
   "name": "python3"
  },
  "language_info": {
   "codemirror_mode": {
    "name": "ipython",
    "version": 3
   },
   "file_extension": ".py",
   "mimetype": "text/x-python",
   "name": "python",
   "nbconvert_exporter": "python",
   "pygments_lexer": "ipython3",
   "version": "3.8.5"
  }
 },
 "nbformat": 4,
 "nbformat_minor": 4
}
