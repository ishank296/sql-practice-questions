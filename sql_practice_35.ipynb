{
 "cells": [
  {
   "cell_type": "code",
   "execution_count": 1,
   "metadata": {},
   "outputs": [],
   "source": [
    "%load_ext sql"
   ]
  },
  {
   "cell_type": "code",
   "execution_count": 3,
   "metadata": {},
   "outputs": [
    {
     "data": {
      "text/plain": [
       "'Connected: @./test.db'"
      ]
     },
     "execution_count": 3,
     "metadata": {},
     "output_type": "execute_result"
    }
   ],
   "source": [
    "%sql sqlite:///./test.db"
   ]
  },
  {
   "cell_type": "code",
   "execution_count": 4,
   "metadata": {},
   "outputs": [
    {
     "name": "stdout",
     "output_type": "stream",
     "text": [
      " * sqlite:///./test.db\n",
      "Done.\n"
     ]
    },
    {
     "data": {
      "text/plain": [
       "[]"
      ]
     },
     "execution_count": 4,
     "metadata": {},
     "output_type": "execute_result"
    }
   ],
   "source": [
    "%%sql\n",
    "Create Table Employees\n",
    "(\n",
    "Employee_no BigInt,\n",
    "Birth_date Date,\n",
    "First_name Varchar(50),\n",
    "Last_name Varchar(50),\n",
    "Joining_date Date\n",
    ");\n"
   ]
  },
  {
   "cell_type": "code",
   "execution_count": 5,
   "metadata": {},
   "outputs": [
    {
     "name": "stdout",
     "output_type": "stream",
     "text": [
      " * sqlite:///./test.db\n",
      "1 rows affected.\n",
      "1 rows affected.\n",
      "1 rows affected.\n",
      "1 rows affected.\n",
      "1 rows affected.\n",
      "1 rows affected.\n",
      "1 rows affected.\n",
      "1 rows affected.\n"
     ]
    },
    {
     "data": {
      "text/plain": [
       "[]"
      ]
     },
     "execution_count": 5,
     "metadata": {},
     "output_type": "execute_result"
    }
   ],
   "source": [
    "%%sql\n",
    "INSERT INTO Employees Values(1001,CAST('1988-08-15' AS Date),'ADAM','WAUGH', CAST('2013-04-12' AS Date));\n",
    "INSERT INTO Employees Values(1002,CAST('1990-05-10' AS Date),'Mark','Jennifer', CAST('2010-06-25' AS Date));\n",
    "INSERT INTO Employees Values(1003,CAST('1992-02-07' AS Date),'JOHN','Waugh', CAST('2016-02-07' AS Date));\n",
    "INSERT INTO Employees Values(1004,CAST('1985-06-12' AS Date),'SOPHIA TRUMP','', CAST('2016-02-15' AS Date));\n",
    "INSERT INTO Employees Values(1005,CAST('1995-03-25' AS Date),'Maria','Gracia', CAST('2011-04-09' AS Date));\n",
    "INSERT INTO Employees Values(1006,CAST('1994-06-23' AS Date),'ROBERT','PATRICA', CAST('2015-06-23' AS Date));\n",
    "INSERT INTO Employees Values(1007,CAST('1993-04-05' AS Date),'MIKE JOHNSON','', CAST('2014-03-09' AS Date));\n",
    "INSERT INTO Employees Values(1008,CAST('1989-04-05' AS Date),'JAMES','OLIVER', CAST('2017-01-15' AS Date));"
   ]
  },
  {
   "cell_type": "code",
   "execution_count": 6,
   "metadata": {},
   "outputs": [
    {
     "name": "stdout",
     "output_type": "stream",
     "text": [
      " * sqlite:///./test.db\n",
      "Done.\n"
     ]
    },
    {
     "data": {
      "text/html": [
       "<table>\n",
       "    <thead>\n",
       "        <tr>\n",
       "            <th>Employee_no</th>\n",
       "            <th>Birth_date</th>\n",
       "            <th>First_name</th>\n",
       "            <th>Last_name</th>\n",
       "            <th>Joining_date</th>\n",
       "        </tr>\n",
       "    </thead>\n",
       "    <tbody>\n",
       "        <tr>\n",
       "            <td>1001</td>\n",
       "            <td>1988</td>\n",
       "            <td>ADAM</td>\n",
       "            <td>WAUGH</td>\n",
       "            <td>2013</td>\n",
       "        </tr>\n",
       "        <tr>\n",
       "            <td>1002</td>\n",
       "            <td>1990</td>\n",
       "            <td>Mark</td>\n",
       "            <td>Jennifer</td>\n",
       "            <td>2010</td>\n",
       "        </tr>\n",
       "        <tr>\n",
       "            <td>1003</td>\n",
       "            <td>1992</td>\n",
       "            <td>JOHN</td>\n",
       "            <td>Waugh</td>\n",
       "            <td>2016</td>\n",
       "        </tr>\n",
       "        <tr>\n",
       "            <td>1004</td>\n",
       "            <td>1985</td>\n",
       "            <td>SOPHIA TRUMP</td>\n",
       "            <td></td>\n",
       "            <td>2016</td>\n",
       "        </tr>\n",
       "        <tr>\n",
       "            <td>1005</td>\n",
       "            <td>1995</td>\n",
       "            <td>Maria</td>\n",
       "            <td>Gracia</td>\n",
       "            <td>2011</td>\n",
       "        </tr>\n",
       "        <tr>\n",
       "            <td>1006</td>\n",
       "            <td>1994</td>\n",
       "            <td>ROBERT</td>\n",
       "            <td>PATRICA</td>\n",
       "            <td>2015</td>\n",
       "        </tr>\n",
       "        <tr>\n",
       "            <td>1007</td>\n",
       "            <td>1993</td>\n",
       "            <td>MIKE JOHNSON</td>\n",
       "            <td></td>\n",
       "            <td>2014</td>\n",
       "        </tr>\n",
       "        <tr>\n",
       "            <td>1008</td>\n",
       "            <td>1989</td>\n",
       "            <td>JAMES</td>\n",
       "            <td>OLIVER</td>\n",
       "            <td>2017</td>\n",
       "        </tr>\n",
       "    </tbody>\n",
       "</table>"
      ],
      "text/plain": [
       "[(1001, 1988, 'ADAM', 'WAUGH', 2013),\n",
       " (1002, 1990, 'Mark', 'Jennifer', 2010),\n",
       " (1003, 1992, 'JOHN', 'Waugh', 2016),\n",
       " (1004, 1985, 'SOPHIA TRUMP', '', 2016),\n",
       " (1005, 1995, 'Maria', 'Gracia', 2011),\n",
       " (1006, 1994, 'ROBERT', 'PATRICA', 2015),\n",
       " (1007, 1993, 'MIKE JOHNSON', '', 2014),\n",
       " (1008, 1989, 'JAMES', 'OLIVER', 2017)]"
      ]
     },
     "execution_count": 6,
     "metadata": {},
     "output_type": "execute_result"
    }
   ],
   "source": [
    "%sql select * from employees"
   ]
  },
  {
   "cell_type": "code",
   "execution_count": 7,
   "metadata": {},
   "outputs": [
    {
     "name": "stdout",
     "output_type": "stream",
     "text": [
      " * sqlite:///./test.db\n",
      "Done.\n"
     ]
    },
    {
     "data": {
      "text/html": [
       "<table>\n",
       "    <thead>\n",
       "        <tr>\n",
       "            <th>Employee_no</th>\n",
       "            <th>Birth_date</th>\n",
       "            <th>First_name</th>\n",
       "            <th>Last_name</th>\n",
       "            <th>Joining_date</th>\n",
       "        </tr>\n",
       "    </thead>\n",
       "    <tbody>\n",
       "        <tr>\n",
       "            <td>1002</td>\n",
       "            <td>1990</td>\n",
       "            <td>Mark</td>\n",
       "            <td>Jennifer</td>\n",
       "            <td>2010</td>\n",
       "        </tr>\n",
       "        <tr>\n",
       "            <td>1005</td>\n",
       "            <td>1995</td>\n",
       "            <td>Maria</td>\n",
       "            <td>Gracia</td>\n",
       "            <td>2011</td>\n",
       "        </tr>\n",
       "    </tbody>\n",
       "</table>"
      ],
      "text/plain": [
       "[(1002, 1990, 'Mark', 'Jennifer', 2010), (1005, 1995, 'Maria', 'Gracia', 2011)]"
      ]
     },
     "execution_count": 7,
     "metadata": {},
     "output_type": "execute_result"
    }
   ],
   "source": [
    "%sql select * from employees where first_name <> upper(first_name)"
   ]
  },
  {
   "cell_type": "code",
   "execution_count": 24,
   "metadata": {},
   "outputs": [
    {
     "name": "stdout",
     "output_type": "stream",
     "text": [
      " * sqlite:///./test.db\n",
      "Done.\n"
     ]
    },
    {
     "data": {
      "text/html": [
       "<table>\n",
       "    <thead>\n",
       "        <tr>\n",
       "            <th>Employee_no</th>\n",
       "            <th>first_name</th>\n",
       "            <th>last_name</th>\n",
       "        </tr>\n",
       "    </thead>\n",
       "    <tbody>\n",
       "        <tr>\n",
       "            <td>1001</td>\n",
       "            <td>ADAM</td>\n",
       "            <td>WAUGH</td>\n",
       "        </tr>\n",
       "        <tr>\n",
       "            <td>1002</td>\n",
       "            <td>Mark</td>\n",
       "            <td>Jennifer</td>\n",
       "        </tr>\n",
       "        <tr>\n",
       "            <td>1003</td>\n",
       "            <td>JOHN</td>\n",
       "            <td>Waugh</td>\n",
       "        </tr>\n",
       "        <tr>\n",
       "            <td>1004</td>\n",
       "            <td>SOPHIA</td>\n",
       "            <td> TRUMP</td>\n",
       "        </tr>\n",
       "        <tr>\n",
       "            <td>1005</td>\n",
       "            <td>Maria</td>\n",
       "            <td>Gracia</td>\n",
       "        </tr>\n",
       "        <tr>\n",
       "            <td>1006</td>\n",
       "            <td>ROBERT</td>\n",
       "            <td>PATRICA</td>\n",
       "        </tr>\n",
       "        <tr>\n",
       "            <td>1007</td>\n",
       "            <td>MIKE</td>\n",
       "            <td> JOHNSON</td>\n",
       "        </tr>\n",
       "        <tr>\n",
       "            <td>1008</td>\n",
       "            <td>JAMES</td>\n",
       "            <td>OLIVER</td>\n",
       "        </tr>\n",
       "    </tbody>\n",
       "</table>"
      ],
      "text/plain": [
       "[(1001, 'ADAM', 'WAUGH'),\n",
       " (1002, 'Mark', 'Jennifer'),\n",
       " (1003, 'JOHN', 'Waugh'),\n",
       " (1004, 'SOPHIA', ' TRUMP'),\n",
       " (1005, 'Maria', 'Gracia'),\n",
       " (1006, 'ROBERT', 'PATRICA'),\n",
       " (1007, 'MIKE', ' JOHNSON'),\n",
       " (1008, 'JAMES', 'OLIVER')]"
      ]
     },
     "execution_count": 24,
     "metadata": {},
     "output_type": "execute_result"
    }
   ],
   "source": [
    "%%sql select employee_no,\n",
    "case when instr(first_name,' ') = 0 then first_name \n",
    "else substr(first_name,0,instr(first_name,' ')) end first_name,\n",
    "case when instr(first_name,' ') = 0 then last_name\n",
    "else substr(first_name,instr(first_name,' ')) end as last_name from employees"
   ]
  }
 ],
 "metadata": {
  "kernelspec": {
   "display_name": "Python 3",
   "language": "python",
   "name": "python3"
  },
  "language_info": {
   "codemirror_mode": {
    "name": "ipython",
    "version": 3
   },
   "file_extension": ".py",
   "mimetype": "text/x-python",
   "name": "python",
   "nbconvert_exporter": "python",
   "pygments_lexer": "ipython3",
   "version": "3.8.5"
  }
 },
 "nbformat": 4,
 "nbformat_minor": 4
}
