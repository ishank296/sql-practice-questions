{
 "cells": [
  {
   "cell_type": "code",
   "execution_count": 1,
   "metadata": {},
   "outputs": [],
   "source": [
    "%load_ext sql"
   ]
  },
  {
   "cell_type": "code",
   "execution_count": 7,
   "metadata": {},
   "outputs": [
    {
     "data": {
      "text/plain": [
       "'Connected: @./test.db'"
      ]
     },
     "execution_count": 7,
     "metadata": {},
     "output_type": "execute_result"
    }
   ],
   "source": [
    "%sql sqlite:///./test.db"
   ]
  },
  {
   "cell_type": "code",
   "execution_count": 28,
   "metadata": {},
   "outputs": [
    {
     "name": "stdout",
     "output_type": "stream",
     "text": [
      "   sqlite://\n",
      "   sqlite:///./sql.db\n",
      " * sqlite:///./test.db\n",
      "Done.\n",
      "Done.\n"
     ]
    },
    {
     "data": {
      "text/plain": [
       "[]"
      ]
     },
     "execution_count": 28,
     "metadata": {},
     "output_type": "execute_result"
    }
   ],
   "source": [
    "%%sql \n",
    "DROP TABLE Transaction_Tbl;\n",
    "CREATE TABLE [Transaction_Tbl](\n",
    " [CustID] [int] ,\n",
    " [TranID] [int] ,\n",
    " [TranAmt] [float] ,\n",
    " [TranDate] [date] \n",
    ");\n"
   ]
  },
  {
   "cell_type": "code",
   "execution_count": 29,
   "metadata": {},
   "outputs": [
    {
     "name": "stdout",
     "output_type": "stream",
     "text": [
      "   sqlite://\n",
      "   sqlite:///./sql.db\n",
      " * sqlite:///./test.db\n",
      "1 rows affected.\n",
      "1 rows affected.\n",
      "1 rows affected.\n",
      "1 rows affected.\n",
      "1 rows affected.\n",
      "1 rows affected.\n",
      "1 rows affected.\n"
     ]
    },
    {
     "data": {
      "text/plain": [
       "[]"
      ]
     },
     "execution_count": 29,
     "metadata": {},
     "output_type": "execute_result"
    }
   ],
   "source": [
    "%%sql\n",
    "INSERT into [Transaction_Tbl] ([CustID], [TranID], [TranAmt], [TranDate]) VALUES (1001, 20001, 10000, date('2020-04-25'));\n",
    "INSERT into [Transaction_Tbl] ([CustID], [TranID], [TranAmt], [TranDate]) VALUES (1001, 20002, 15000, date('2020-04-25'));\n",
    "INSERT into [Transaction_Tbl] ([CustID], [TranID], [TranAmt], [TranDate]) VALUES (1001, 20003, 80000, date('2020-04-25'));\n",
    "INSERT into [Transaction_Tbl] ([CustID], [TranID], [TranAmt], [TranDate]) VALUES (1001, 20004, 20000, date('2020-04-25'));\n",
    "INSERT into [Transaction_Tbl] ([CustID], [TranID], [TranAmt], [TranDate]) VALUES (1002, 30001, 7000, date('2020-04-25'));\n",
    "INSERT into [Transaction_Tbl] ([CustID], [TranID], [TranAmt], [TranDate]) VALUES (1002, 30002, 15000, date('2020-04-25'));\n",
    "INSERT into [Transaction_Tbl] ([CustID], [TranID], [TranAmt], [TranDate]) VALUES (1002, 30003, 22000, date('2020-04-25'));"
   ]
  },
  {
   "cell_type": "code",
   "execution_count": 30,
   "metadata": {},
   "outputs": [
    {
     "name": "stdout",
     "output_type": "stream",
     "text": [
      "   sqlite://\n",
      "   sqlite:///./sql.db\n",
      " * sqlite:///./test.db\n",
      "Done.\n"
     ]
    },
    {
     "data": {
      "text/html": [
       "<table>\n",
       "    <thead>\n",
       "        <tr>\n",
       "            <th>CustID</th>\n",
       "            <th>TranID</th>\n",
       "            <th>TranAmt</th>\n",
       "            <th>TranDate</th>\n",
       "        </tr>\n",
       "    </thead>\n",
       "    <tbody>\n",
       "        <tr>\n",
       "            <td>1001</td>\n",
       "            <td>20001</td>\n",
       "            <td>10000.0</td>\n",
       "            <td>2020-04-25</td>\n",
       "        </tr>\n",
       "        <tr>\n",
       "            <td>1001</td>\n",
       "            <td>20002</td>\n",
       "            <td>15000.0</td>\n",
       "            <td>2020-04-25</td>\n",
       "        </tr>\n",
       "        <tr>\n",
       "            <td>1001</td>\n",
       "            <td>20003</td>\n",
       "            <td>80000.0</td>\n",
       "            <td>2020-04-25</td>\n",
       "        </tr>\n",
       "        <tr>\n",
       "            <td>1001</td>\n",
       "            <td>20004</td>\n",
       "            <td>20000.0</td>\n",
       "            <td>2020-04-25</td>\n",
       "        </tr>\n",
       "        <tr>\n",
       "            <td>1002</td>\n",
       "            <td>30001</td>\n",
       "            <td>7000.0</td>\n",
       "            <td>2020-04-25</td>\n",
       "        </tr>\n",
       "        <tr>\n",
       "            <td>1002</td>\n",
       "            <td>30002</td>\n",
       "            <td>15000.0</td>\n",
       "            <td>2020-04-25</td>\n",
       "        </tr>\n",
       "        <tr>\n",
       "            <td>1002</td>\n",
       "            <td>30003</td>\n",
       "            <td>22000.0</td>\n",
       "            <td>2020-04-25</td>\n",
       "        </tr>\n",
       "    </tbody>\n",
       "</table>"
      ],
      "text/plain": [
       "[(1001, 20001, 10000.0, '2020-04-25'),\n",
       " (1001, 20002, 15000.0, '2020-04-25'),\n",
       " (1001, 20003, 80000.0, '2020-04-25'),\n",
       " (1001, 20004, 20000.0, '2020-04-25'),\n",
       " (1002, 30001, 7000.0, '2020-04-25'),\n",
       " (1002, 30002, 15000.0, '2020-04-25'),\n",
       " (1002, 30003, 22000.0, '2020-04-25')]"
      ]
     },
     "execution_count": 30,
     "metadata": {},
     "output_type": "execute_result"
    }
   ],
   "source": [
    "%sql select * from transaction_tbl"
   ]
  },
  {
   "cell_type": "markdown",
   "metadata": {},
   "source": [
    "Display all fields along with Maximun transamt for each custId and ratio of transAmt and Maximum transAmt for each transaction"
   ]
  },
  {
   "cell_type": "code",
   "execution_count": 32,
   "metadata": {},
   "outputs": [
    {
     "name": "stdout",
     "output_type": "stream",
     "text": [
      "   sqlite://\n",
      "   sqlite:///./sql.db\n",
      " * sqlite:///./test.db\n",
      "Done.\n"
     ]
    },
    {
     "data": {
      "text/html": [
       "<table>\n",
       "    <thead>\n",
       "        <tr>\n",
       "            <th>CustID</th>\n",
       "            <th>TranID</th>\n",
       "            <th>TranAmt</th>\n",
       "            <th>TranDate</th>\n",
       "            <th>maxTranAmt</th>\n",
       "            <th>ratio</th>\n",
       "        </tr>\n",
       "    </thead>\n",
       "    <tbody>\n",
       "        <tr>\n",
       "            <td>1001</td>\n",
       "            <td>20001</td>\n",
       "            <td>10000.0</td>\n",
       "            <td>2020-04-25</td>\n",
       "            <td>80000.0</td>\n",
       "            <td>0.125</td>\n",
       "        </tr>\n",
       "        <tr>\n",
       "            <td>1001</td>\n",
       "            <td>20002</td>\n",
       "            <td>15000.0</td>\n",
       "            <td>2020-04-25</td>\n",
       "            <td>80000.0</td>\n",
       "            <td>0.1875</td>\n",
       "        </tr>\n",
       "        <tr>\n",
       "            <td>1001</td>\n",
       "            <td>20003</td>\n",
       "            <td>80000.0</td>\n",
       "            <td>2020-04-25</td>\n",
       "            <td>80000.0</td>\n",
       "            <td>1.0</td>\n",
       "        </tr>\n",
       "        <tr>\n",
       "            <td>1001</td>\n",
       "            <td>20004</td>\n",
       "            <td>20000.0</td>\n",
       "            <td>2020-04-25</td>\n",
       "            <td>80000.0</td>\n",
       "            <td>0.25</td>\n",
       "        </tr>\n",
       "        <tr>\n",
       "            <td>1002</td>\n",
       "            <td>30001</td>\n",
       "            <td>7000.0</td>\n",
       "            <td>2020-04-25</td>\n",
       "            <td>22000.0</td>\n",
       "            <td>0.3181818181818182</td>\n",
       "        </tr>\n",
       "        <tr>\n",
       "            <td>1002</td>\n",
       "            <td>30002</td>\n",
       "            <td>15000.0</td>\n",
       "            <td>2020-04-25</td>\n",
       "            <td>22000.0</td>\n",
       "            <td>0.6818181818181818</td>\n",
       "        </tr>\n",
       "        <tr>\n",
       "            <td>1002</td>\n",
       "            <td>30003</td>\n",
       "            <td>22000.0</td>\n",
       "            <td>2020-04-25</td>\n",
       "            <td>22000.0</td>\n",
       "            <td>1.0</td>\n",
       "        </tr>\n",
       "    </tbody>\n",
       "</table>"
      ],
      "text/plain": [
       "[(1001, 20001, 10000.0, '2020-04-25', 80000.0, 0.125),\n",
       " (1001, 20002, 15000.0, '2020-04-25', 80000.0, 0.1875),\n",
       " (1001, 20003, 80000.0, '2020-04-25', 80000.0, 1.0),\n",
       " (1001, 20004, 20000.0, '2020-04-25', 80000.0, 0.25),\n",
       " (1002, 30001, 7000.0, '2020-04-25', 22000.0, 0.3181818181818182),\n",
       " (1002, 30002, 15000.0, '2020-04-25', 22000.0, 0.6818181818181818),\n",
       " (1002, 30003, 22000.0, '2020-04-25', 22000.0, 1.0)]"
      ]
     },
     "execution_count": 32,
     "metadata": {},
     "output_type": "execute_result"
    }
   ],
   "source": [
    "%%sql \n",
    "select *,TranAmt/maxTranAmt ratio from (\n",
    "select *,max(TranAmt) over(partition by CustID) maxTranAmt from transaction_tbl)x"
   ]
  },
  {
   "cell_type": "code",
   "execution_count": 35,
   "metadata": {},
   "outputs": [
    {
     "name": "stdout",
     "output_type": "stream",
     "text": [
      "   sqlite://\n",
      "   sqlite:///./sql.db\n",
      " * sqlite:///./test.db\n",
      "Done.\n"
     ]
    },
    {
     "data": {
      "text/html": [
       "<table>\n",
       "    <thead>\n",
       "        <tr>\n",
       "            <th>CustID</th>\n",
       "            <th>TranID</th>\n",
       "            <th>TranAmt</th>\n",
       "            <th>TranDate</th>\n",
       "            <th>maxtranamt</th>\n",
       "            <th>ratio</th>\n",
       "        </tr>\n",
       "    </thead>\n",
       "    <tbody>\n",
       "        <tr>\n",
       "            <td>1001</td>\n",
       "            <td>20001</td>\n",
       "            <td>10000.0</td>\n",
       "            <td>2020-04-25</td>\n",
       "            <td>80000.0</td>\n",
       "            <td>0.125</td>\n",
       "        </tr>\n",
       "        <tr>\n",
       "            <td>1001</td>\n",
       "            <td>20002</td>\n",
       "            <td>15000.0</td>\n",
       "            <td>2020-04-25</td>\n",
       "            <td>80000.0</td>\n",
       "            <td>0.1875</td>\n",
       "        </tr>\n",
       "        <tr>\n",
       "            <td>1001</td>\n",
       "            <td>20003</td>\n",
       "            <td>80000.0</td>\n",
       "            <td>2020-04-25</td>\n",
       "            <td>80000.0</td>\n",
       "            <td>1.0</td>\n",
       "        </tr>\n",
       "        <tr>\n",
       "            <td>1001</td>\n",
       "            <td>20004</td>\n",
       "            <td>20000.0</td>\n",
       "            <td>2020-04-25</td>\n",
       "            <td>80000.0</td>\n",
       "            <td>0.25</td>\n",
       "        </tr>\n",
       "        <tr>\n",
       "            <td>1002</td>\n",
       "            <td>30001</td>\n",
       "            <td>7000.0</td>\n",
       "            <td>2020-04-25</td>\n",
       "            <td>22000.0</td>\n",
       "            <td>0.3181818181818182</td>\n",
       "        </tr>\n",
       "        <tr>\n",
       "            <td>1002</td>\n",
       "            <td>30002</td>\n",
       "            <td>15000.0</td>\n",
       "            <td>2020-04-25</td>\n",
       "            <td>22000.0</td>\n",
       "            <td>0.6818181818181818</td>\n",
       "        </tr>\n",
       "        <tr>\n",
       "            <td>1002</td>\n",
       "            <td>30003</td>\n",
       "            <td>22000.0</td>\n",
       "            <td>2020-04-25</td>\n",
       "            <td>22000.0</td>\n",
       "            <td>1.0</td>\n",
       "        </tr>\n",
       "    </tbody>\n",
       "</table>"
      ],
      "text/plain": [
       "[(1001, 20001, 10000.0, '2020-04-25', 80000.0, 0.125),\n",
       " (1001, 20002, 15000.0, '2020-04-25', 80000.0, 0.1875),\n",
       " (1001, 20003, 80000.0, '2020-04-25', 80000.0, 1.0),\n",
       " (1001, 20004, 20000.0, '2020-04-25', 80000.0, 0.25),\n",
       " (1002, 30001, 7000.0, '2020-04-25', 22000.0, 0.3181818181818182),\n",
       " (1002, 30002, 15000.0, '2020-04-25', 22000.0, 0.6818181818181818),\n",
       " (1002, 30003, 22000.0, '2020-04-25', 22000.0, 1.0)]"
      ]
     },
     "execution_count": 35,
     "metadata": {},
     "output_type": "execute_result"
    }
   ],
   "source": [
    "%%sql\n",
    "select t.custid,tranid,tranamt,trandate,tx.maxtranamt,t.tranamt/tx.maxtranamt ratio \n",
    "from transaction_tbl t inner join \n",
    "(select custid,max(tranamt) maxtranamt from transaction_tbl group by custid) tx\n",
    "on t.custid=tx.custid"
   ]
  }
 ],
 "metadata": {
  "kernelspec": {
   "display_name": "Python 3",
   "language": "python",
   "name": "python3"
  },
  "language_info": {
   "codemirror_mode": {
    "name": "ipython",
    "version": 3
   },
   "file_extension": ".py",
   "mimetype": "text/x-python",
   "name": "python",
   "nbconvert_exporter": "python",
   "pygments_lexer": "ipython3",
   "version": "3.8.5"
  }
 },
 "nbformat": 4,
 "nbformat_minor": 4
}
