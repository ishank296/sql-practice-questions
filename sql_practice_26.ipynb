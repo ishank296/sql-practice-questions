{
 "cells": [
  {
   "cell_type": "code",
   "execution_count": 1,
   "metadata": {},
   "outputs": [],
   "source": [
    "%load_ext sql"
   ]
  },
  {
   "cell_type": "code",
   "execution_count": 2,
   "metadata": {},
   "outputs": [
    {
     "data": {
      "text/plain": [
       "'Connected: @./test.db'"
      ]
     },
     "execution_count": 2,
     "metadata": {},
     "output_type": "execute_result"
    }
   ],
   "source": [
    "%sql sqlite:///./test.db"
   ]
  },
  {
   "cell_type": "code",
   "execution_count": 3,
   "metadata": {},
   "outputs": [
    {
     "name": "stdout",
     "output_type": "stream",
     "text": [
      " * sqlite:///./test.db\n",
      "Done.\n"
     ]
    },
    {
     "data": {
      "text/plain": [
       "[]"
      ]
     },
     "execution_count": 3,
     "metadata": {},
     "output_type": "execute_result"
    }
   ],
   "source": [
    "%sql Create Table Phone_Log(Source_Phone_Nbr Bigint,Destination_Phone_Nbr Bigint,Call_Start_DateTime Datetime) ;"
   ]
  },
  {
   "cell_type": "code",
   "execution_count": 4,
   "metadata": {},
   "outputs": [
    {
     "name": "stdout",
     "output_type": "stream",
     "text": [
      " * sqlite:///./test.db\n",
      "8 rows affected.\n"
     ]
    },
    {
     "data": {
      "text/plain": [
       "[]"
      ]
     },
     "execution_count": 4,
     "metadata": {},
     "output_type": "execute_result"
    }
   ],
   "source": [
    "%%sql\n",
    "Insert into Phone_Log Values (2345,6789,'2012-07-01 10:00')\n",
    ",(2345,1234,'2012-07-01 11:00')\n",
    ",(2345,4567,'2012-07-01 12:00')\n",
    ",(2345,4567,'2012-07-01 13:00')\n",
    ",(2345,6789,'2012-07-01 15:00')\n",
    ",(3311,7890,'2012-07-01 10:00')\n",
    ",(3311,6543,'2012-07-01 12:00')\n",
    ",(3311,1234,'2012-07-01 13:00');"
   ]
  },
  {
   "cell_type": "code",
   "execution_count": 6,
   "metadata": {},
   "outputs": [
    {
     "name": "stdout",
     "output_type": "stream",
     "text": [
      " * sqlite:///./test.db\n",
      "Done.\n"
     ]
    },
    {
     "data": {
      "text/html": [
       "<table>\n",
       "    <thead>\n",
       "        <tr>\n",
       "            <th>Source_Phone_Nbr</th>\n",
       "            <th>Destination_Phone_Nbr</th>\n",
       "            <th>Call_Start_DateTime</th>\n",
       "        </tr>\n",
       "    </thead>\n",
       "    <tbody>\n",
       "        <tr>\n",
       "            <td>2345</td>\n",
       "            <td>6789</td>\n",
       "            <td>2012-07-01 10:00</td>\n",
       "        </tr>\n",
       "        <tr>\n",
       "            <td>2345</td>\n",
       "            <td>1234</td>\n",
       "            <td>2012-07-01 11:00</td>\n",
       "        </tr>\n",
       "        <tr>\n",
       "            <td>2345</td>\n",
       "            <td>4567</td>\n",
       "            <td>2012-07-01 12:00</td>\n",
       "        </tr>\n",
       "        <tr>\n",
       "            <td>2345</td>\n",
       "            <td>4567</td>\n",
       "            <td>2012-07-01 13:00</td>\n",
       "        </tr>\n",
       "        <tr>\n",
       "            <td>2345</td>\n",
       "            <td>6789</td>\n",
       "            <td>2012-07-01 15:00</td>\n",
       "        </tr>\n",
       "        <tr>\n",
       "            <td>3311</td>\n",
       "            <td>7890</td>\n",
       "            <td>2012-07-01 10:00</td>\n",
       "        </tr>\n",
       "        <tr>\n",
       "            <td>3311</td>\n",
       "            <td>6543</td>\n",
       "            <td>2012-07-01 12:00</td>\n",
       "        </tr>\n",
       "        <tr>\n",
       "            <td>3311</td>\n",
       "            <td>1234</td>\n",
       "            <td>2012-07-01 13:00</td>\n",
       "        </tr>\n",
       "    </tbody>\n",
       "</table>"
      ],
      "text/plain": [
       "[(2345, 6789, '2012-07-01 10:00'),\n",
       " (2345, 1234, '2012-07-01 11:00'),\n",
       " (2345, 4567, '2012-07-01 12:00'),\n",
       " (2345, 4567, '2012-07-01 13:00'),\n",
       " (2345, 6789, '2012-07-01 15:00'),\n",
       " (3311, 7890, '2012-07-01 10:00'),\n",
       " (3311, 6543, '2012-07-01 12:00'),\n",
       " (3311, 1234, '2012-07-01 13:00')]"
      ]
     },
     "execution_count": 6,
     "metadata": {},
     "output_type": "execute_result"
    }
   ],
   "source": [
    "%sql select * from phone_log"
   ]
  },
  {
   "cell_type": "markdown",
   "metadata": {},
   "source": [
    " SQL to display the Source_Phone_Nbr and a flag where the flag needs to be set to ‘Y’ if first called number and last called number are the same and ‘N’ if first called number and last called number are different"
   ]
  },
  {
   "cell_type": "code",
   "execution_count": 9,
   "metadata": {},
   "outputs": [
    {
     "name": "stdout",
     "output_type": "stream",
     "text": [
      " * sqlite:///./test.db\n",
      "Done.\n"
     ]
    },
    {
     "data": {
      "text/html": [
       "<table>\n",
       "    <thead>\n",
       "        <tr>\n",
       "            <th>Source_Phone_Nbr</th>\n",
       "            <th>Destination_Phone_Nbr</th>\n",
       "            <th>Call_Start_DateTime</th>\n",
       "            <th>first_call_seq</th>\n",
       "            <th>last_call_seq</th>\n",
       "        </tr>\n",
       "    </thead>\n",
       "    <tbody>\n",
       "        <tr>\n",
       "            <td>2345</td>\n",
       "            <td>6789</td>\n",
       "            <td>2012-07-01 10:00</td>\n",
       "            <td>1</td>\n",
       "            <td>5</td>\n",
       "        </tr>\n",
       "        <tr>\n",
       "            <td>2345</td>\n",
       "            <td>1234</td>\n",
       "            <td>2012-07-01 11:00</td>\n",
       "            <td>2</td>\n",
       "            <td>4</td>\n",
       "        </tr>\n",
       "        <tr>\n",
       "            <td>2345</td>\n",
       "            <td>4567</td>\n",
       "            <td>2012-07-01 12:00</td>\n",
       "            <td>3</td>\n",
       "            <td>3</td>\n",
       "        </tr>\n",
       "        <tr>\n",
       "            <td>2345</td>\n",
       "            <td>4567</td>\n",
       "            <td>2012-07-01 13:00</td>\n",
       "            <td>4</td>\n",
       "            <td>2</td>\n",
       "        </tr>\n",
       "        <tr>\n",
       "            <td>2345</td>\n",
       "            <td>6789</td>\n",
       "            <td>2012-07-01 15:00</td>\n",
       "            <td>5</td>\n",
       "            <td>1</td>\n",
       "        </tr>\n",
       "        <tr>\n",
       "            <td>3311</td>\n",
       "            <td>7890</td>\n",
       "            <td>2012-07-01 10:00</td>\n",
       "            <td>1</td>\n",
       "            <td>3</td>\n",
       "        </tr>\n",
       "        <tr>\n",
       "            <td>3311</td>\n",
       "            <td>6543</td>\n",
       "            <td>2012-07-01 12:00</td>\n",
       "            <td>2</td>\n",
       "            <td>2</td>\n",
       "        </tr>\n",
       "        <tr>\n",
       "            <td>3311</td>\n",
       "            <td>1234</td>\n",
       "            <td>2012-07-01 13:00</td>\n",
       "            <td>3</td>\n",
       "            <td>1</td>\n",
       "        </tr>\n",
       "    </tbody>\n",
       "</table>"
      ],
      "text/plain": [
       "[(2345, 6789, '2012-07-01 10:00', 1, 5),\n",
       " (2345, 1234, '2012-07-01 11:00', 2, 4),\n",
       " (2345, 4567, '2012-07-01 12:00', 3, 3),\n",
       " (2345, 4567, '2012-07-01 13:00', 4, 2),\n",
       " (2345, 6789, '2012-07-01 15:00', 5, 1),\n",
       " (3311, 7890, '2012-07-01 10:00', 1, 3),\n",
       " (3311, 6543, '2012-07-01 12:00', 2, 2),\n",
       " (3311, 1234, '2012-07-01 13:00', 3, 1)]"
      ]
     },
     "execution_count": 9,
     "metadata": {},
     "output_type": "execute_result"
    }
   ],
   "source": [
    "%%sql\n",
    "select *,\n",
    "row_number() over(partition by source_phone_nbr order by call_start_datetime asc) first_call_seq,\n",
    "row_number() over(partition by source_phone_nbr order by call_start_datetime desc) last_call_seq\n",
    "from phone_log"
   ]
  },
  {
   "cell_type": "code",
   "execution_count": 12,
   "metadata": {},
   "outputs": [
    {
     "name": "stdout",
     "output_type": "stream",
     "text": [
      " * sqlite:///./test.db\n",
      "Done.\n"
     ]
    },
    {
     "data": {
      "text/html": [
       "<table>\n",
       "    <thead>\n",
       "        <tr>\n",
       "            <th>Source_Phone_Nbr</th>\n",
       "            <th>first_call</th>\n",
       "            <th>last_call</th>\n",
       "        </tr>\n",
       "    </thead>\n",
       "    <tbody>\n",
       "        <tr>\n",
       "            <td>2345</td>\n",
       "            <td>6789</td>\n",
       "            <td>6789</td>\n",
       "        </tr>\n",
       "        <tr>\n",
       "            <td>3311</td>\n",
       "            <td>7890</td>\n",
       "            <td>1234</td>\n",
       "        </tr>\n",
       "    </tbody>\n",
       "</table>"
      ],
      "text/plain": [
       "[(2345, 6789, 6789), (3311, 7890, 1234)]"
      ]
     },
     "execution_count": 12,
     "metadata": {},
     "output_type": "execute_result"
    }
   ],
   "source": [
    "%%sql\n",
    "select source_phone_nbr,\n",
    "max(case when first_call_Seq =1 then destination_phone_nbr end) first_call, \n",
    "max(case when last_call_Seq =1 then destination_phone_nbr end) last_call from (\n",
    "select *,\n",
    "row_number() over(partition by source_phone_nbr order by call_start_datetime asc) first_call_seq,\n",
    "row_number() over(partition by source_phone_nbr order by call_start_datetime desc) last_call_seq\n",
    "from phone_log)x\n",
    "group by source_phone_nbr"
   ]
  },
  {
   "cell_type": "code",
   "execution_count": 17,
   "metadata": {},
   "outputs": [
    {
     "name": "stdout",
     "output_type": "stream",
     "text": [
      " * sqlite:///./test.db\n",
      "Done.\n"
     ]
    },
    {
     "data": {
      "text/html": [
       "<table>\n",
       "    <thead>\n",
       "        <tr>\n",
       "            <th>source_phone_nbr</th>\n",
       "            <th>flag</th>\n",
       "        </tr>\n",
       "    </thead>\n",
       "    <tbody>\n",
       "        <tr>\n",
       "            <td>2345</td>\n",
       "            <td>Y</td>\n",
       "        </tr>\n",
       "        <tr>\n",
       "            <td>3311</td>\n",
       "            <td>N</td>\n",
       "        </tr>\n",
       "    </tbody>\n",
       "</table>"
      ],
      "text/plain": [
       "[(2345, 'Y'), (3311, 'N')]"
      ]
     },
     "execution_count": 17,
     "metadata": {},
     "output_type": "execute_result"
    }
   ],
   "source": [
    "%%sql\n",
    "select source_phone_nbr,case when first_call=last_call then 'Y' else 'N' end flag  from(\n",
    "select source_phone_nbr,\n",
    "max(case when first_call_Seq =1 then destination_phone_nbr end) first_call, \n",
    "max(case when last_call_Seq =1 then destination_phone_nbr end) last_call from (\n",
    "select *,\n",
    "row_number() over(partition by source_phone_nbr order by call_start_datetime asc) first_call_seq,\n",
    "row_number() over(partition by source_phone_nbr order by call_start_datetime desc) last_call_seq\n",
    "from phone_log)x\n",
    "group by source_phone_nbr)T"
   ]
  }
 ],
 "metadata": {
  "kernelspec": {
   "display_name": "Python 3",
   "language": "python",
   "name": "python3"
  },
  "language_info": {
   "codemirror_mode": {
    "name": "ipython",
    "version": 3
   },
   "file_extension": ".py",
   "mimetype": "text/x-python",
   "name": "python",
   "nbconvert_exporter": "python",
   "pygments_lexer": "ipython3",
   "version": "3.8.5"
  }
 },
 "nbformat": 4,
 "nbformat_minor": 4
}
